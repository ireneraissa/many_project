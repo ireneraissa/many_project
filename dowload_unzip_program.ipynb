{
 "cells": [
  {
   "cell_type": "code",
   "execution_count": 15,
   "metadata": {
    "collapsed": true
   },
   "outputs": [],
   "source": [
    "import selenium #pip install selenium\n",
    "# télécharger le chrome driver http://chromedriver.storage.googleapis.com/index.html?path=2.24/\n",
    "path_to_web_driver = \"/home/irene/chromedriver\""
   ]
  },
  {
   "cell_type": "code",
   "execution_count": 19,
   "metadata": {
    "collapsed": true
   },
   "outputs": [],
   "source": [
    "import os, sys\n",
    "from pyquickhelper.filehelper import download, unzip_files\n",
    "if \"win\" in sys.platform:\n",
    "    if not os.path.exists(\"chromedriver_win32.zip\"):\n",
    "        download(\"http://chromedriver.storage.googleapis.com/2.9/chromedriver_win32.zip\")\n",
    "    if not os.path.exists(\"chromedriver.exe\"):\n",
    "        unzip_files(\"chromedriver_win32.zip\", where_to=\"/home/irene/Documents/hello\")\n",
    "elif sys.platform.startswith(\"linux\"):\n",
    "    if not os.path.exists(\"chromedriver_linux32.zip\"):\n",
    "        download(\"http://chromedriver.storage.googleapis.com/2.9/chromedriver_linux32.zip\")\n",
    "    if not os.path.exists(\"chromedriver\"):\n",
    "        unzip_files(\"chromedriver_linux64.zip\", where_to=\"/home/irene/Documents/hello\")\n",
    "elif sys.platform.startswith(\"darwin\"):\n",
    "    if not os.path.exists(\"chromedriver_mac64.zip\"):\n",
    "        download(\"http://chromedriver.storage.googleapis.com/2.9/chromedriver_mac64.zip\")\n",
    "    if not os.path.exists(\"chromedriver\"):\n",
    "        unzip_files(\"chromedriver_mac64.zip\", where_to=\"/home/irene/Documents/hello\")\n"
   ]
  },
  {
   "cell_type": "code",
   "execution_count": null,
   "metadata": {},
   "outputs": [],
   "source": []
  },
  {
   "cell_type": "code",
   "execution_count": null,
   "metadata": {
    "collapsed": true
   },
   "outputs": [],
   "source": []
  }
 ],
 "metadata": {
  "kernelspec": {
   "display_name": "Python 3",
   "language": "python",
   "name": "python3"
  },
  "language_info": {
   "codemirror_mode": {
    "name": "ipython",
    "version": 3
   },
   "file_extension": ".py",
   "mimetype": "text/x-python",
   "name": "python",
   "nbconvert_exporter": "python",
   "pygments_lexer": "ipython3",
   "version": "3.5.2"
  }
 },
 "nbformat": 4,
 "nbformat_minor": 2
}
