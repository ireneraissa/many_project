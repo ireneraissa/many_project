{
 "cells": [
  {
   "cell_type": "markdown",
   "metadata": {},
   "source": [
    "# site d'annuaire des entreprises au senegal\n",
    "-http://www.lespagesjaunesafrique.com/pays/senegal/                                                                     \n",
    "-https://www.goafricaonline.com/sn/annuaire  \n",
    "-http://www.afrikeco.com/annuaire/senegal/secteurs                                                                           \n",
    "-http://www.expat.com/fr/entreprises/afrique/senegal/"
   ]
  },
  {
   "cell_type": "code",
   "execution_count": 29,
   "metadata": {},
   "outputs": [],
   "source": [
    "import requests\n",
    "from bs4 import BeautifulSoup\n",
    "url='http://pagesjaunesdusenegal.com'\n",
    "response = requests.get(url)\n",
    "html = response.content\n",
    "soup = BeautifulSoup(html,'html5lib')"
   ]
  },
  {
   "cell_type": "code",
   "execution_count": 30,
   "metadata": {},
   "outputs": [],
   "source": [
    "table=soup.text"
   ]
  },
  {
   "cell_type": "code",
   "execution_count": 31,
   "metadata": {},
   "outputs": [
    {
     "data": {
      "text/plain": [
       "'\\n\\twindow.location.href = \"http://pagesjaunesdusenegal.com/index.php\";\\n'"
      ]
     },
     "execution_count": 31,
     "metadata": {},
     "output_type": "execute_result"
    }
   ],
   "source": [
    "table"
   ]
  },
  {
   "cell_type": "code",
   "execution_count": 35,
   "metadata": {},
   "outputs": [],
   "source": [
    "url_veritable=table.replace('\\n\\twindow.location.href = \"','').replace('\";\\n','')"
   ]
  },
  {
   "cell_type": "code",
   "execution_count": 36,
   "metadata": {},
   "outputs": [],
   "source": [
    "answer = requests.get(url_veritable)\n",
    "lxml = answer.content\n",
    "soupe = BeautifulSoup(lxml,'html5lib')"
   ]
  },
  {
   "cell_type": "code",
   "execution_count": 64,
   "metadata": {},
   "outputs": [],
   "source": [
    "table_veritable=soupe.find('div',attrs={'class':'row background-menu'})"
   ]
  },
  {
   "cell_type": "code",
   "execution_count": 65,
   "metadata": {},
   "outputs": [
    {
     "data": {
      "text/plain": [
       "[<li class=\"mnoactive\">\n",
       " \t\t\t\t\t\t<div class=\"title-menu\">\n",
       " \t\t\t\t\t\t\t<a href=\"http://pagesjaunesdusenegal.com/pages/resultat.php?quois=informatique\" id=\"informatique\">Informatique</a>\n",
       " \t\t\t\t\t\t\t<div class=\"separateur-menu\">\n",
       " \t\t\t\t\t\t\t\t<img src=\"http://pagesjaunesdusenegal.com/images/separateur.png\"/>\n",
       " \t\t\t\t\t\t\t</div>\n",
       " \t\t\t\t\t\t</div>\n",
       " \t\t\t\t\t\t\n",
       " \t\t\t\t\t</li>, <li class=\"mnoactive\">\n",
       " \t\t\t\t\t\t<div class=\"title-menu\">\n",
       " \t\t\t\t\t\t\t<a href=\"http://pagesjaunesdusenegal.com/pages/resultat.php?quois=avocat\">Avocat</a>\n",
       " \t\t\t\t\t\t\t<div class=\"separateur-menu\">\n",
       " \t\t\t\t\t\t\t\t<img src=\"http://pagesjaunesdusenegal.com/images/separateur.png\"/>\n",
       " \t\t\t\t\t\t\t</div>\n",
       " \t\t\t\t\t\t</div>\n",
       " \t\t\t\t\t\t\t\n",
       " \t\t\t\t\t</li>, <li class=\"mnoactive\">\n",
       " \t\t\t\t\t\t<div class=\"title-menu\">\n",
       " \t\t\t\t\t\t\t<a href=\"http://pagesjaunesdusenegal.com/pages/resultat.php?quois=immobilier\">Immobilier</a>\n",
       " \t\t\t\t\t\t\t<div class=\"separateur-menu\">\n",
       " \t\t\t\t\t\t\t\t<img src=\"http://pagesjaunesdusenegal.com/images/separateur.png\"/>\n",
       " \t\t\t\t\t\t\t</div>\n",
       " \t\t\t\t\t\t</div>\n",
       " \t\t\t\t\t\t\t\n",
       " \t\t\t\t\t</li>, <li class=\"mnoactive\">\n",
       " \t\t\t\t\t\t<div class=\"title-menu\">\n",
       " \t\t\t\t\t\t\t<a href=\"http://pagesjaunesdusenegal.com/pages/resultat.php?quois=restaurant\">Restaurant</a>\t\t\t\t\t\t\t\n",
       " \t\t\t\t\t\t\t<div class=\"separateur-menu\">\n",
       " \t\t\t\t\t\t\t\t<img src=\"http://pagesjaunesdusenegal.com/images/separateur.png\"/>\n",
       " \t\t\t\t\t\t\t</div>\n",
       " \t\t\t\t\t\t</div>\t\n",
       " \t\t\t\t\t</li>, <li class=\"mnoactive\">\n",
       " \t\t\t\t\t\t<div class=\"title-menu\">\n",
       " \t\t\t\t\t\t\t<a href=\"http://pagesjaunesdusenegal.com/pages/resultat.php?quois=hotel\">Hôtel</a>\n",
       " \t\t\t\t\t\t\t<div class=\"separateur-menu\">\n",
       " \t\t\t\t\t\t\t\t<img src=\"http://pagesjaunesdusenegal.com/images/separateur.png\"/>\n",
       " \t\t\t\t\t\t\t</div>\n",
       " \t\t\t\t\t\t</div>\t\n",
       " \t\t\t\t\t</li>, <li class=\"mnoactive\">\n",
       " \t\t\t\t\t\t<div class=\"title-menu\">\n",
       " \t\t\t\t\t\t\t<a href=\"http://pagesjaunesdusenegal.com/pages/resultat.php?quois=batiment\">BTP</a>\n",
       " \t\t\t\t\t\t\t<div class=\"separateur-menu\">\n",
       " \t\t\t\t\t\t\t\t<img src=\"http://pagesjaunesdusenegal.com/images/separateur.png\"/>\n",
       " \t\t\t\t\t\t\t</div>\n",
       " \t\t\t\t\t\t</div>\t\n",
       " \t\t\t\t\t</li>, <li class=\"mnoactive\">\n",
       " \t\t\t\t\t\t<div class=\"title-menu\">\n",
       " \t\t\t\t\t\t\t<a href=\"http://pagesjaunesdusenegal.com/pages/resultat.php?quois=transport\">Transport</a>\n",
       " \t\t\t\t\t\t\t<div class=\"separateur-menu\">\n",
       " \t\t\t\t\t\t\t\t<img src=\"http://pagesjaunesdusenegal.com/images/separateur.png\"/>\n",
       " \t\t\t\t\t\t\t</div>\n",
       " \t\t\t\t\t\t</div>\t\n",
       " \t\t\t\t\t</li>, <li class=\"mnoactive\">\n",
       " \t\t\t\t\t\t<div class=\"title-menu\">\n",
       " \t\t\t\t\t\t\t<a href=\"http://pagesjaunesdusenegal.com/pages/resultat.php?quois=tourism\">Tourisme &amp; Voyage</a>\n",
       " \t\t\t\t\t\t\t<div class=\"separateur-menu\">\n",
       " \t\t\t\t\t\t\t\t<img src=\"http://pagesjaunesdusenegal.com/images/separateur.png\"/>\n",
       " \t\t\t\t\t\t\t</div>\n",
       " \t\t\t\t\t\t</div>\t\n",
       " \t\t\t\t\t</li>, <li class=\"mnoactive\">\n",
       " \t\t\t\t\t\t<div class=\"title-menu\">\n",
       " \t\t\t\t\t\t\t<a href=\"http://pagesjaunesdusenegal.com/pages/resultat.php?quois=comptable\">Expert Comptable</a>\n",
       " \t\t\t\t\t\t\t<div class=\"separateur-menu\">\n",
       " \t\t\t\t\t\t\t\t<img src=\"http://pagesjaunesdusenegal.com/images/separateur.png\"/>\n",
       " \t\t\t\t\t\t\t</div>\n",
       " \t\t\t\t\t\t</div>\t\n",
       " \t\t\t\t\t</li>, <li class=\"mnoactive\">\n",
       " \t\t\t\t\t\t<div class=\"title-menu\">\n",
       " \t\t\t\t\t\t\t<a href=\"http://pagesjaunesdusenegal.com/pages/resultat.php?quois=assurance\">Assurance</a>\n",
       " \t\t\t\t\t\t\t<div class=\"separateur-menu\">\n",
       " \t\t\t\t\t\t\t\t<img src=\"http://pagesjaunesdusenegal.com/images/separateur.png\"/>\n",
       " \t\t\t\t\t\t\t</div>\n",
       " \t\t\t\t\t\t</div>\t\n",
       " \t\t\t\t\t</li>, <li class=\"mnoactive\">\n",
       " \t\t\t\t\t\t<div class=\"title-menu\">\n",
       " \t\t\t\t\t\t\t<a href=\"http://pagesjaunesdusenegal.com/pages/resultat.php?quois=agriculture\">Agriculture &amp; Elevage</a>\n",
       " \t\t\t\t\t\t\t<div class=\"separateur-menu\">\n",
       " \t\t\t\t\t\t\t\t<img src=\"http://pagesjaunesdusenegal.com/images/separateur.png\"/>\n",
       " \t\t\t\t\t\t\t</div>\n",
       " \t\t\t\t\t\t</div>\t\n",
       " \t\t\t\t\t</li>, <li class=\"mnoactive\">\n",
       " \t\t\t\t\t\t<div class=\"title-menu\">\n",
       " \t\t\t\t\t\t\t<a href=\"http://pagesjaunesdusenegal.com/pages/resultat.php?quois=hopita\">Hôpitaux</a>\n",
       " \t\t\t\t\t\t\t<div class=\"separateur-menu\">\n",
       " \t\t\t\t\t\t\t\t<img src=\"http://pagesjaunesdusenegal.com/images/separateur.png\"/>\n",
       " \t\t\t\t\t\t\t</div>\n",
       " \t\t\t\t\t\t</div>\t\n",
       " \t\t\t\t\t</li>, <li class=\"mnoactive\">\n",
       " \t\t\t\t\t\t<div class=\"title-menu\">\n",
       " \t\t\t\t\t\t\t<a href=\"http://pagesjaunesdusenegal.com/pages/resultat.php?quois=dentiste\">Dentiste</a>\n",
       " \t\t\t\t\t\t\t<div class=\"separateur-menu\">\n",
       " \t\t\t\t\t\t\t\t<img src=\"http://pagesjaunesdusenegal.com/images/separateur.png\"/>\n",
       " \t\t\t\t\t\t\t</div>\n",
       " \t\t\t\t\t\t</div>\t\n",
       " \t\t\t\t\t</li>, <li class=\"mnoactive\">\n",
       " \t\t\t\t\t\t<div class=\"title-menu\">\n",
       " \t\t\t\t\t\t\t<a href=\"http://pagesjaunesdusenegal.com/pages/resultat.php?quois=pharmacie\">Pharmacie</a>\n",
       " \t\t\t\t\t\t\t<div class=\"separateur-menu\">\n",
       " \t\t\t\t\t\t\t\t<img src=\"http://pagesjaunesdusenegal.com/images/separateur.png\"/>\n",
       " \t\t\t\t\t\t\t</div>\n",
       " \t\t\t\t\t\t</div>\t\n",
       " \t\t\t\t\t</li>, <li class=\"mnoactive\">\n",
       " \t\t\t\t\t\t<div class=\"title-menu\">\n",
       " \t\t\t\t\t\t\t<a href=\"http://pagesjaunesdusenegal.com/pages/resultat.php?quois=clinique\">Clinique</a>\n",
       " \t\t\t\t\t\t\t<div class=\"separateur-menu\">\n",
       " \t\t\t\t\t\t\t\t<img src=\"http://pagesjaunesdusenegal.com/images/separateur.png\"/>\n",
       " \t\t\t\t\t\t\t</div>\n",
       " \t\t\t\t\t\t</div>\t\n",
       " \t\t\t\t\t</li>, <li class=\"mnoactive\">\n",
       " \t\t\t\t\t\t<div class=\"title-menu\">\n",
       " \t\t\t\t\t\t\t<a href=\"http://pagesjaunesdusenegal.com/pages/resultat.php?quois=opticien\">Opticien</a>\n",
       " \t\t\t\t\t\t\t<div class=\"separateur-menu\">\n",
       " \t\t\t\t\t\t\t\t<img src=\"http://pagesjaunesdusenegal.com/images/separateur.png\"/>\n",
       " \t\t\t\t\t\t\t</div>\n",
       " \t\t\t\t\t\t</div>\t\n",
       " \t\t\t\t\t</li>, <li class=\"mnoactive\">\n",
       " \t\t\t\t\t\t<div class=\"title-menu\">\n",
       " \t\t\t\t\t\t\t<a href=\"http://pagesjaunesdusenegal.com/pages/resultat.php?quois=securite\">Securite</a>\n",
       " \t\t\t\t\t\t\t<div class=\"separateur-menu\">\n",
       " \t\t\t\t\t\t\t\t<img src=\"http://pagesjaunesdusenegal.com/images/separateur.png\"/>\n",
       " \t\t\t\t\t\t\t</div>\n",
       " \t\t\t\t\t\t</div>\t\n",
       " \t\t\t\t\t</li>, <li class=\"mnoactive\">\n",
       " \t\t\t\t\t\t<div class=\"title-menu\">\n",
       " \t\t\t\t\t\t\t<a href=\"http://pagesjaunesdusenegal.com/pages/resultat.php?quois=mobilier de bureau\">Mobilier de bureau</a>\n",
       " \t\t\t\t\t\t\t<div class=\"separateur-menu\">\n",
       " \t\t\t\t\t\t\t\t<img src=\"http://pagesjaunesdusenegal.com/images/separateur.png\"/>\n",
       " \t\t\t\t\t\t\t</div>\n",
       " \t\t\t\t\t\t</div>\t\n",
       " \t\t\t\t\t</li>, <li class=\"mnoactive\">\n",
       " \t\t\t\t\t\t<div class=\"title-menu\">\n",
       " \t\t\t\t\t\t\t<a href=\"http://pagesjaunesdusenegal.com/pages/resultat.php?quois=architect\">Architecte</a>\n",
       " \t\t\t\t\t\t\t<div class=\"separateur-menu\">\n",
       " \t\t\t\t\t\t\t\t<img src=\"http://pagesjaunesdusenegal.com/images/separateur.png\"/>\n",
       " \t\t\t\t\t\t\t</div>\n",
       " \t\t\t\t\t\t</div>\t\n",
       " \t\t\t\t\t</li>, <li class=\"mnoactive\">\n",
       " \t\t\t\t\t\t<div class=\"title-menu\">\n",
       " \t\t\t\t\t\t\t<a href=\"http://pagesjaunesdusenegal.com/pages/resultat.php?quois=transit\">Transit</a>\n",
       " \t\t\t\t\t\t\t<div class=\"separateur-menu\">\n",
       " \t\t\t\t\t\t\t\t<img src=\"http://pagesjaunesdusenegal.com/images/separateur.png\"/>\n",
       " \t\t\t\t\t\t\t</div>\n",
       " \t\t\t\t\t\t</div>\t\n",
       " \t\t\t\t\t</li>, <li class=\"mnoactive\">\n",
       " \t\t\t\t\t\t<div class=\"title-menu\">\n",
       " \t\t\t\t\t\t\t<a href=\"http://pagesjaunesdusenegal.com/pages/resultat.php?quois=banque\">Banque</a>\n",
       " \t\t\t\t\t\t\t<div class=\"separateur-menu\">\n",
       " \t\t\t\t\t\t\t\t<img src=\"http://pagesjaunesdusenegal.com/images/separateur.png\"/>\n",
       " \t\t\t\t\t\t\t</div>\n",
       " \t\t\t\t\t\t</div>\t\n",
       " \t\t\t\t\t</li>, <li class=\"mnoactive\">\n",
       " \t\t\t\t\t\t<div class=\"title-menu\">\n",
       " \t\t\t\t\t\t\t<a href=\"http://pagesjaunesdusenegal.com/pages/resultat.php?quois=voiture\">Location de voitures</a>\n",
       " \t\t\t\t\t\t\t<div class=\"separateur-menu\">\n",
       " \t\t\t\t\t\t\t\t<img src=\"http://pagesjaunesdusenegal.com/images/separateur.png\"/>\n",
       " \t\t\t\t\t\t\t</div>\n",
       " \t\t\t\t\t\t</div>\n",
       " \t\t\t\t\t</li>]"
      ]
     },
     "execution_count": 65,
     "metadata": {},
     "output_type": "execute_result"
    }
   ],
   "source": [
    "table_veritable.findAll('li')"
   ]
  },
  {
   "cell_type": "code",
   "execution_count": 79,
   "metadata": {},
   "outputs": [],
   "source": [
    "lien=[]\n",
    "for row in table_veritable.findAll('div'):\n",
    "    for cell in row.findAll('a'):\n",
    "        lien.append(cell)\n",
    "        "
   ]
  },
  {
   "cell_type": "code",
   "execution_count": 80,
   "metadata": {},
   "outputs": [
    {
     "data": {
      "text/plain": [
       "[<a href=\"http://pagesjaunesdusenegal.com/pages/resultat.php?quois=informatique\" id=\"informatique\">Informatique</a>,\n",
       " <a href=\"http://pagesjaunesdusenegal.com/pages/resultat.php?quois=avocat\">Avocat</a>,\n",
       " <a href=\"http://pagesjaunesdusenegal.com/pages/resultat.php?quois=immobilier\">Immobilier</a>,\n",
       " <a href=\"http://pagesjaunesdusenegal.com/pages/resultat.php?quois=restaurant\">Restaurant</a>,\n",
       " <a href=\"http://pagesjaunesdusenegal.com/pages/resultat.php?quois=hotel\">Hôtel</a>,\n",
       " <a href=\"http://pagesjaunesdusenegal.com/pages/resultat.php?quois=batiment\">BTP</a>,\n",
       " <a href=\"http://pagesjaunesdusenegal.com/pages/resultat.php?quois=transport\">Transport</a>,\n",
       " <a href=\"http://pagesjaunesdusenegal.com/pages/resultat.php?quois=tourism\">Tourisme &amp; Voyage</a>,\n",
       " <a href=\"http://pagesjaunesdusenegal.com/pages/resultat.php?quois=comptable\">Expert Comptable</a>,\n",
       " <a href=\"http://pagesjaunesdusenegal.com/pages/resultat.php?quois=assurance\">Assurance</a>,\n",
       " <a href=\"http://pagesjaunesdusenegal.com/pages/resultat.php?quois=agriculture\">Agriculture &amp; Elevage</a>,\n",
       " <a href=\"http://pagesjaunesdusenegal.com/pages/resultat.php?quois=hopita\">Hôpitaux</a>,\n",
       " <a href=\"http://pagesjaunesdusenegal.com/pages/resultat.php?quois=dentiste\">Dentiste</a>,\n",
       " <a href=\"http://pagesjaunesdusenegal.com/pages/resultat.php?quois=pharmacie\">Pharmacie</a>,\n",
       " <a href=\"http://pagesjaunesdusenegal.com/pages/resultat.php?quois=clinique\">Clinique</a>,\n",
       " <a href=\"http://pagesjaunesdusenegal.com/pages/resultat.php?quois=opticien\">Opticien</a>,\n",
       " <a href=\"http://pagesjaunesdusenegal.com/pages/resultat.php?quois=securite\">Securite</a>,\n",
       " <a href=\"http://pagesjaunesdusenegal.com/pages/resultat.php?quois=mobilier de bureau\">Mobilier de bureau</a>,\n",
       " <a href=\"http://pagesjaunesdusenegal.com/pages/resultat.php?quois=architect\">Architecte</a>,\n",
       " <a href=\"http://pagesjaunesdusenegal.com/pages/resultat.php?quois=transit\">Transit</a>,\n",
       " <a href=\"http://pagesjaunesdusenegal.com/pages/resultat.php?quois=banque\">Banque</a>,\n",
       " <a href=\"http://pagesjaunesdusenegal.com/pages/resultat.php?quois=voiture\">Location de voitures</a>,\n",
       " <a href=\"http://pagesjaunesdusenegal.com/pages/resultat.php?quois=informatique\" id=\"informatique\">Informatique</a>,\n",
       " <a href=\"http://pagesjaunesdusenegal.com/pages/resultat.php?quois=avocat\">Avocat</a>,\n",
       " <a href=\"http://pagesjaunesdusenegal.com/pages/resultat.php?quois=immobilier\">Immobilier</a>,\n",
       " <a href=\"http://pagesjaunesdusenegal.com/pages/resultat.php?quois=restaurant\">Restaurant</a>,\n",
       " <a href=\"http://pagesjaunesdusenegal.com/pages/resultat.php?quois=hotel\">Hôtel</a>,\n",
       " <a href=\"http://pagesjaunesdusenegal.com/pages/resultat.php?quois=batiment\">BTP</a>,\n",
       " <a href=\"http://pagesjaunesdusenegal.com/pages/resultat.php?quois=transport\">Transport</a>,\n",
       " <a href=\"http://pagesjaunesdusenegal.com/pages/resultat.php?quois=tourism\">Tourisme &amp; Voyage</a>,\n",
       " <a href=\"http://pagesjaunesdusenegal.com/pages/resultat.php?quois=comptable\">Expert Comptable</a>,\n",
       " <a href=\"http://pagesjaunesdusenegal.com/pages/resultat.php?quois=assurance\">Assurance</a>,\n",
       " <a href=\"http://pagesjaunesdusenegal.com/pages/resultat.php?quois=agriculture\">Agriculture &amp; Elevage</a>,\n",
       " <a href=\"http://pagesjaunesdusenegal.com/pages/resultat.php?quois=hopita\">Hôpitaux</a>,\n",
       " <a href=\"http://pagesjaunesdusenegal.com/pages/resultat.php?quois=dentiste\">Dentiste</a>,\n",
       " <a href=\"http://pagesjaunesdusenegal.com/pages/resultat.php?quois=pharmacie\">Pharmacie</a>,\n",
       " <a href=\"http://pagesjaunesdusenegal.com/pages/resultat.php?quois=clinique\">Clinique</a>,\n",
       " <a href=\"http://pagesjaunesdusenegal.com/pages/resultat.php?quois=opticien\">Opticien</a>,\n",
       " <a href=\"http://pagesjaunesdusenegal.com/pages/resultat.php?quois=securite\">Securite</a>,\n",
       " <a href=\"http://pagesjaunesdusenegal.com/pages/resultat.php?quois=mobilier de bureau\">Mobilier de bureau</a>,\n",
       " <a href=\"http://pagesjaunesdusenegal.com/pages/resultat.php?quois=architect\">Architecte</a>,\n",
       " <a href=\"http://pagesjaunesdusenegal.com/pages/resultat.php?quois=transit\">Transit</a>,\n",
       " <a href=\"http://pagesjaunesdusenegal.com/pages/resultat.php?quois=banque\">Banque</a>,\n",
       " <a href=\"http://pagesjaunesdusenegal.com/pages/resultat.php?quois=voiture\">Location de voitures</a>]"
      ]
     },
     "execution_count": 80,
     "metadata": {},
     "output_type": "execute_result"
    }
   ],
   "source": [
    "lien"
   ]
  },
  {
   "cell_type": "code",
   "execution_count": 85,
   "metadata": {},
   "outputs": [],
   "source": [
    "lien_recuperer=[]\n",
    "for line in lien:\n",
    "    if line['href']== ' ':\n",
    "        continue\n",
    "    else: \n",
    "        lien_recuperer.append(line['href'])"
   ]
  },
  {
   "cell_type": "code",
   "execution_count": 86,
   "metadata": {},
   "outputs": [
    {
     "data": {
      "text/plain": [
       "['http://pagesjaunesdusenegal.com/pages/resultat.php?quois=informatique',\n",
       " 'http://pagesjaunesdusenegal.com/pages/resultat.php?quois=avocat',\n",
       " 'http://pagesjaunesdusenegal.com/pages/resultat.php?quois=immobilier',\n",
       " 'http://pagesjaunesdusenegal.com/pages/resultat.php?quois=restaurant',\n",
       " 'http://pagesjaunesdusenegal.com/pages/resultat.php?quois=hotel',\n",
       " 'http://pagesjaunesdusenegal.com/pages/resultat.php?quois=batiment',\n",
       " 'http://pagesjaunesdusenegal.com/pages/resultat.php?quois=transport',\n",
       " 'http://pagesjaunesdusenegal.com/pages/resultat.php?quois=tourism',\n",
       " 'http://pagesjaunesdusenegal.com/pages/resultat.php?quois=comptable',\n",
       " 'http://pagesjaunesdusenegal.com/pages/resultat.php?quois=assurance',\n",
       " 'http://pagesjaunesdusenegal.com/pages/resultat.php?quois=agriculture',\n",
       " 'http://pagesjaunesdusenegal.com/pages/resultat.php?quois=hopita',\n",
       " 'http://pagesjaunesdusenegal.com/pages/resultat.php?quois=dentiste',\n",
       " 'http://pagesjaunesdusenegal.com/pages/resultat.php?quois=pharmacie',\n",
       " 'http://pagesjaunesdusenegal.com/pages/resultat.php?quois=clinique',\n",
       " 'http://pagesjaunesdusenegal.com/pages/resultat.php?quois=opticien',\n",
       " 'http://pagesjaunesdusenegal.com/pages/resultat.php?quois=securite',\n",
       " 'http://pagesjaunesdusenegal.com/pages/resultat.php?quois=mobilier de bureau',\n",
       " 'http://pagesjaunesdusenegal.com/pages/resultat.php?quois=architect',\n",
       " 'http://pagesjaunesdusenegal.com/pages/resultat.php?quois=transit',\n",
       " 'http://pagesjaunesdusenegal.com/pages/resultat.php?quois=banque',\n",
       " 'http://pagesjaunesdusenegal.com/pages/resultat.php?quois=voiture',\n",
       " 'http://pagesjaunesdusenegal.com/pages/resultat.php?quois=informatique',\n",
       " 'http://pagesjaunesdusenegal.com/pages/resultat.php?quois=avocat',\n",
       " 'http://pagesjaunesdusenegal.com/pages/resultat.php?quois=immobilier',\n",
       " 'http://pagesjaunesdusenegal.com/pages/resultat.php?quois=restaurant',\n",
       " 'http://pagesjaunesdusenegal.com/pages/resultat.php?quois=hotel',\n",
       " 'http://pagesjaunesdusenegal.com/pages/resultat.php?quois=batiment',\n",
       " 'http://pagesjaunesdusenegal.com/pages/resultat.php?quois=transport',\n",
       " 'http://pagesjaunesdusenegal.com/pages/resultat.php?quois=tourism',\n",
       " 'http://pagesjaunesdusenegal.com/pages/resultat.php?quois=comptable',\n",
       " 'http://pagesjaunesdusenegal.com/pages/resultat.php?quois=assurance',\n",
       " 'http://pagesjaunesdusenegal.com/pages/resultat.php?quois=agriculture',\n",
       " 'http://pagesjaunesdusenegal.com/pages/resultat.php?quois=hopita',\n",
       " 'http://pagesjaunesdusenegal.com/pages/resultat.php?quois=dentiste',\n",
       " 'http://pagesjaunesdusenegal.com/pages/resultat.php?quois=pharmacie',\n",
       " 'http://pagesjaunesdusenegal.com/pages/resultat.php?quois=clinique',\n",
       " 'http://pagesjaunesdusenegal.com/pages/resultat.php?quois=opticien',\n",
       " 'http://pagesjaunesdusenegal.com/pages/resultat.php?quois=securite',\n",
       " 'http://pagesjaunesdusenegal.com/pages/resultat.php?quois=mobilier de bureau',\n",
       " 'http://pagesjaunesdusenegal.com/pages/resultat.php?quois=architect',\n",
       " 'http://pagesjaunesdusenegal.com/pages/resultat.php?quois=transit',\n",
       " 'http://pagesjaunesdusenegal.com/pages/resultat.php?quois=banque',\n",
       " 'http://pagesjaunesdusenegal.com/pages/resultat.php?quois=voiture']"
      ]
     },
     "execution_count": 86,
     "metadata": {},
     "output_type": "execute_result"
    }
   ],
   "source": [
    "lien_recuperer"
   ]
  },
  {
   "cell_type": "code",
   "execution_count": 104,
   "metadata": {
    "collapsed": true
   },
   "outputs": [],
   "source": [
    "import numpy  as np"
   ]
  },
  {
   "cell_type": "code",
   "execution_count": 105,
   "metadata": {},
   "outputs": [],
   "source": [
    "lien_util=lien_recuperer[0:np.int(len(lien_recuperer)/2)]"
   ]
  },
  {
   "cell_type": "code",
   "execution_count": 106,
   "metadata": {},
   "outputs": [
    {
     "data": {
      "text/plain": [
       "['http://pagesjaunesdusenegal.com/pages/resultat.php?quois=informatique',\n",
       " 'http://pagesjaunesdusenegal.com/pages/resultat.php?quois=avocat',\n",
       " 'http://pagesjaunesdusenegal.com/pages/resultat.php?quois=immobilier',\n",
       " 'http://pagesjaunesdusenegal.com/pages/resultat.php?quois=restaurant',\n",
       " 'http://pagesjaunesdusenegal.com/pages/resultat.php?quois=hotel',\n",
       " 'http://pagesjaunesdusenegal.com/pages/resultat.php?quois=batiment',\n",
       " 'http://pagesjaunesdusenegal.com/pages/resultat.php?quois=transport',\n",
       " 'http://pagesjaunesdusenegal.com/pages/resultat.php?quois=tourism',\n",
       " 'http://pagesjaunesdusenegal.com/pages/resultat.php?quois=comptable',\n",
       " 'http://pagesjaunesdusenegal.com/pages/resultat.php?quois=assurance',\n",
       " 'http://pagesjaunesdusenegal.com/pages/resultat.php?quois=agriculture',\n",
       " 'http://pagesjaunesdusenegal.com/pages/resultat.php?quois=hopita',\n",
       " 'http://pagesjaunesdusenegal.com/pages/resultat.php?quois=dentiste',\n",
       " 'http://pagesjaunesdusenegal.com/pages/resultat.php?quois=pharmacie',\n",
       " 'http://pagesjaunesdusenegal.com/pages/resultat.php?quois=clinique',\n",
       " 'http://pagesjaunesdusenegal.com/pages/resultat.php?quois=opticien',\n",
       " 'http://pagesjaunesdusenegal.com/pages/resultat.php?quois=securite',\n",
       " 'http://pagesjaunesdusenegal.com/pages/resultat.php?quois=mobilier de bureau',\n",
       " 'http://pagesjaunesdusenegal.com/pages/resultat.php?quois=architect',\n",
       " 'http://pagesjaunesdusenegal.com/pages/resultat.php?quois=transit',\n",
       " 'http://pagesjaunesdusenegal.com/pages/resultat.php?quois=banque',\n",
       " 'http://pagesjaunesdusenegal.com/pages/resultat.php?quois=voiture']"
      ]
     },
     "execution_count": 106,
     "metadata": {},
     "output_type": "execute_result"
    }
   ],
   "source": [
    "lien_util"
   ]
  },
  {
   "cell_type": "code",
   "execution_count": 107,
   "metadata": {},
   "outputs": [],
   "source": [
    "get_all_html=[]\n",
    "for i in range(len(lien_util)):\n",
    "    requests.get(lien_util[i]).content\n",
    "    #for line in re:\n",
    "      #  rei.append(re.content)\n",
    "#for line in re:\n",
    "    get_all_html.append(BeautifulSoup(requests.get(lien_util[i]).content,'html5lib'))"
   ]
  },
  {
   "cell_type": "code",
   "execution_count": 108,
   "metadata": {},
   "outputs": [
    {
     "name": "stderr",
     "output_type": "stream",
     "text": [
      "IOPub data rate exceeded.\n",
      "The notebook server will temporarily stop sending output\n",
      "to the client in order to avoid crashing it.\n",
      "To change this limit, set the config variable\n",
      "`--NotebookApp.iopub_data_rate_limit`.\n"
     ]
    }
   ],
   "source": [
    "get_all_html"
   ]
  },
  {
   "cell_type": "code",
   "execution_count": null,
   "metadata": {
    "collapsed": true
   },
   "outputs": [],
   "source": []
  }
 ],
 "metadata": {
  "kernelspec": {
   "display_name": "Python 3",
   "language": "python",
   "name": "python3"
  },
  "language_info": {
   "codemirror_mode": {
    "name": "ipython",
    "version": 3
   },
   "file_extension": ".py",
   "mimetype": "text/x-python",
   "name": "python",
   "nbconvert_exporter": "python",
   "pygments_lexer": "ipython3",
   "version": "3.5.2"
  }
 },
 "nbformat": 4,
 "nbformat_minor": 2
}
