{
 "cells": [
  {
   "cell_type": "code",
   "execution_count": 32,
   "metadata": {
    "collapsed": true
   },
   "outputs": [],
   "source": [
    "import urllib\n",
    "import BeautifulSoup"
   ]
  },
  {
   "cell_type": "code",
   "execution_count": 2,
   "metadata": {
    "collapsed": true
   },
   "outputs": [],
   "source": [
    "import bs4"
   ]
  },
  {
   "cell_type": "code",
   "execution_count": 3,
   "metadata": {
    "collapsed": true
   },
   "outputs": [],
   "source": [
    "#help(bs4)"
   ]
  },
  {
   "cell_type": "code",
   "execution_count": 4,
   "metadata": {
    "collapsed": true
   },
   "outputs": [],
   "source": [
    "#aller a la page ou on veut l'infos et obtenir le code source\n",
    "url_ligue_1 = \"https://fr.wikipedia.org/wiki/Championnat_de_France_de_football_2016-2017\""
   ]
  },
  {
   "cell_type": "markdown",
   "metadata": {},
   "source": [
    "# l'ouverture et la lecture de  l'url"
   ]
  },
  {
   "cell_type": "code",
   "execution_count": 5,
   "metadata": {
    "collapsed": true
   },
   "outputs": [],
   "source": [
    "request_text = urllib.urlopen(url_ligue_1).read()  "
   ]
  },
  {
   "cell_type": "code",
   "execution_count": 6,
   "metadata": {},
   "outputs": [
    {
     "name": "stdout",
     "output_type": "stream",
     "text": [
      "<!DOCTYPE html>\n",
      "<html class=\"client-nojs\" lang=\"fr\" dir=\"ltr\">\n",
      "<head>\n",
      "<meta charset=\"UTF-8\"/>\n",
      "<title>Championnat de France de football 2016-2017 — Wikipédia</title>\n",
      "<script>document.documentElement.className = document.documentElement.className.replace( /(^|\\s)client-nojs(\\s|$)/, \"$1client-js$2\" );</script>\n",
      "<script>(window.RLQ=window.RLQ||[]).push(function(){mw.config.set({\"wgCanonicalNamespace\":\"\",\"wgCanonicalSpecialPageName\":false,\"wgNamespaceNumber\":0,\"wgPageName\":\"Championnat_de_France_de_football_2016-2017\",\"wgTitle\":\"Championnat de France de football 2016-2017\",\"wgCurRevisionId\":137232775,\"wgRevisionId\":137232775,\"wgArticleId\":9734718,\"wgIsArticle\":true,\"wgIsRedirect\":false,\"wgAction\":\"view\",\"wgUserName\":null,\"wgUserGroups\":[\"*\"],\"wgCategories\":[\"Portail:Actualité/Articles liés\",\"Article avec une section vide ou incomplète\",\"Article avec section à délister\",\"Article à délister\",\"Page utilisant le modèle Références avec un paramètre obsolète\",\"Portail:Football/Artic\n"
     ]
    }
   ],
   "source": [
    "#with python 2.7 ,i don't need request module but we can use : from urllib2 import Request\n",
    "print(request_text[:1000]) #content.read()"
   ]
  },
  {
   "cell_type": "code",
   "execution_count": 7,
   "metadata": {
    "collapsed": true
   },
   "outputs": [],
   "source": [
    "# Etape 2 : utiliser le package BeautifulSoup\n",
    "# qui \"comprend\" les balises contenues dans la chaine de caractères renvoyée par la fonction request\n",
    "\n",
    "#page = bs4.BeautifulSoup(request_text, \"lxml\")\n",
    "page = bs4.BeautifulSoup(request_text, \"lxml\")\n",
    "\n",
    "#print(page)"
   ]
  },
  {
   "cell_type": "code",
   "execution_count": 8,
   "metadata": {},
   "outputs": [
    {
     "name": "stdout",
     "output_type": "stream",
     "text": [
      "<title>Championnat de France de football 2016-2017 — Wikipédia</title>\n"
     ]
    }
   ],
   "source": [
    "#Si on print l’objet, page créée avec BeautifulSoup, on voit que ce n’est plus une chaine de caractères \n",
    "#mais bien une page HTML avec des balises. On peut à présenter chercher des élements à l’intérieur de ces balises.\n",
    "#par exemple, si on veut connaire le titre de la page, on utilise la méthode .find et on lui demande “title”\n",
    "\n",
    "print(page.find(\"title\"))"
   ]
  },
  {
   "cell_type": "code",
   "execution_count": 9,
   "metadata": {},
   "outputs": [
    {
     "name": "stdout",
     "output_type": "stream",
     "text": [
      "<table>\n",
      "<caption style=\"background:#99cc99; color: #000000;\">Généralités</caption>\n",
      "<tr>\n",
      "<th scope=\"row\" style=\"width:10.5em;\">Sport</th>\n",
      "<td><a href=\"/wiki/Football\" title=\"Football\">Football</a></td>\n",
      "</tr>\n",
      "<tr>\n",
      "<th scope=\"row\" style=\"width:10.5em;\">Organisateur(s)</th>\n",
      "<td><a href=\"/wiki/Ligue_de_football_professionnel\" title=\"Ligue de football professionnel\">LFP</a></td>\n",
      "</tr>\n",
      "<tr>\n",
      "<th scope=\"row\" style=\"width:10.5em;\">Édition</th>\n",
      "<td><abbr class=\"abbr\" title=\"Soixante-dix-neuvième (septante-neuvième)\">79<sup>e</sup></abbr></td>\n",
      "</tr>\n",
      "<tr>\n",
      "<th scope=\"row\" style=\"width:10.5em;\">Lieu(x)</th>\n",
      "<td><span class=\"datasortkey\" data-sort-value=\"France\"><span class=\"flagicon\"><a class=\"image\" href=\"/wiki/Fichier:Flag_of_France.svg\" title=\"Drapeau de la France\"><img alt=\"Drapeau de la France\" class=\"thumbborder\" data-file-height=\"600\" data-file-width=\"900\" height=\"13\" src=\"//upload.wikimedia.org/wikipedia/commons/thumb/c/c3/Flag_of_France.svg/20px-Flag_of_France.svg.png\" srcset=\"//upload.wikimedia.org/wikipedia/commons/thumb/c/c3/Flag_of_France.svg/30px-Flag_of_France.svg.png 1.5x, //upload.wikimedia.org/wikipedia/commons/thumb/c/c3/Flag_of_France.svg/40px-Flag_of_France.svg.png 2x\" width=\"20\"/></a> </span><a href=\"/wiki/France\" title=\"France\">France</a></span> et <span class=\"datasortkey\" data-sort-value=\"Monaco\"><span class=\"flagicon\"><a class=\"image\" href=\"/wiki/Fichier:Flag_of_Monaco.svg\" title=\"Drapeau de Monaco\"><img alt=\"Drapeau de Monaco\" class=\"thumbborder\" data-file-height=\"600\" data-file-width=\"750\" height=\"16\" src=\"//upload.wikimedia.org/wikipedia/commons/thumb/e/ea/Flag_of_Monaco.svg/20px-Flag_of_Monaco.svg.png\" srcset=\"//upload.wikimedia.org/wikipedia/commons/thumb/e/ea/Flag_of_Monaco.svg/30px-Flag_of_Monaco.svg.png 1.5x, //upload.wikimedia.org/wikipedia/commons/thumb/e/ea/Flag_of_Monaco.svg/40px-Flag_of_Monaco.svg.png 2x\" width=\"20\"/></a> </span><a href=\"/wiki/Monaco\" title=\"Monaco\">Monaco</a></span></td>\n",
      "</tr>\n",
      "<tr>\n",
      "<th scope=\"row\" style=\"width:10.5em;\">Date</th>\n",
      "<td>du <time class=\"nowrap date-lien\" datetime=\"2016-08-12\"><a href=\"/wiki/12_ao%C3%BBt\" title=\"12 août\">12</a> <a href=\"/wiki/Ao%C3%BBt_2016\" title=\"Août 2016\">août</a> <a href=\"/wiki/2016\" title=\"2016\">2016</a></time><br/>\n",
      "au <time class=\"nowrap date-lien\" datetime=\"2017-05-20\"><a href=\"/wiki/20_mai\" title=\"20 mai\">20</a> <a href=\"/wiki/Mai_2017\" title=\"Mai 2017\">mai</a> <a href=\"/wiki/2017\" title=\"2017\">2017</a></time></td>\n",
      "</tr>\n",
      "<tr>\n",
      "<th scope=\"row\" style=\"width:10.5em;\">Participants</th>\n",
      "<td>20 équipes</td>\n",
      "</tr>\n",
      "<tr>\n",
      "<th scope=\"row\" style=\"width:10.5em;\">Site web officiel</th>\n",
      "<td>\n",
      "<p class=\"plainlinks\"><a class=\"external text\" href=\"http://www.lfp.fr\" rel=\"nofollow\">Site officiel</a></p>\n",
      "</td>\n",
      "</tr>\n",
      "</table>\n"
     ]
    }
   ],
   "source": [
    "print(page.find(\"table\"))"
   ]
  },
  {
   "cell_type": "code",
   "execution_count": 10,
   "metadata": {},
   "outputs": [
    {
     "name": "stdout",
     "output_type": "stream",
     "text": [
      "on trouve 30 éléments dans la page qui sont des <table>\n"
     ]
    }
   ],
   "source": [
    "print 'on trouve', len(page.findAll(\"table\")), 'éléments dans la page qui sont des <table>'"
   ]
  },
  {
   "cell_type": "code",
   "execution_count": 11,
   "metadata": {},
   "outputs": [
    {
     "name": "stdout",
     "output_type": "stream",
     "text": [
      " Le 2eme tableau de la page : Hiérarchie \n",
      "<table>\n",
      "<caption style=\"background:#99cc99; color: #000000;\">Hiérarchie</caption>\n",
      "<tr>\n",
      "<th scope=\"row\" style=\"width:10.5em;\">Hiérarchie</th>\n",
      "<td><abbr class=\"abbr\" title=\"Premier\">1<sup>er</sup></abbr> échelon</td>\n",
      "</tr>\n",
      "<tr>\n",
      "<th scope=\"row\" style=\"width:10.5em;\">Niveau inférieur</th>\n",
      "<td><a href=\"/wiki/Championnat_de_France_de_football_de_Ligue_2_2016-2017\" title=\"Championnat de France de football de Ligue 2 2016-2017\">Ligue 2 2016-2017</a></td>\n",
      "</tr>\n",
      "</table>\n",
      "Le 3eme tableau de la page : Palmarès \n",
      "<table>\n",
      "<caption style=\"background:#99cc99; color: #000000;\">Palmarès</caption>\n",
      "<tr>\n",
      "<th scope=\"row\" style=\"width:10.5em;\">Tenant du titre</th>\n",
      "<td><a href=\"/wiki/Paris_Saint-Germain_Football_Club\" title=\"Paris Saint-Germain Football Club\">Paris Saint-Germain</a> (6)</td>\n",
      "</tr>\n",
      "<tr>\n",
      "<th scope=\"row\" style=\"width:10.5em;\">Promu(s) en début de saison</th>\n",
      "<td><a href=\"/wiki/Association_sportive_Nancy-Lorraine\" title=\"Association sportive Nancy-Lorraine\">AS Nancy-Lorraine</a><br/>\n",
      "<a href=\"/wiki/Dijon_Football_C%C3%B4te-d%27Or\" title=\"Dijon Football Côte-d'Or\">Dijon FCO</a><br/>\n",
      "<a href=\"/wiki/Football_Club_de_Metz\" title=\"Football Club de Metz\">FC Metz</a></td>\n",
      "</tr>\n",
      "</table>\n"
     ]
    }
   ],
   "source": [
    "print \" Le 2eme tableau de la page : Hiérarchie \\n\", page.findAll(\"table\")[1]\n",
    "print \"Le 3eme tableau de la page : Palmarès \\n\",page.findAll(\"table\")[2]"
   ]
  },
  {
   "cell_type": "code",
   "execution_count": 12,
   "metadata": {
    "collapsed": true
   },
   "outputs": [],
   "source": [
    "#Exercice guidé : obtenir la liste des équipes de Ligue 1"
   ]
  },
  {
   "cell_type": "code",
   "execution_count": 13,
   "metadata": {},
   "outputs": [
    {
     "data": {
      "text/plain": [
       "<table align=\"center\" cellspacing=\"0\" style=\"width:0px;\">\\n<tr>\\n<td style=\"border:none;\">\\n<div class=\"thumbinner\">\\n<div class=\"thumbimage\">\\n<table class=\"DebutCarte\" style=\"width:auto; margin:0; border:none; border-spacing:0; padding:0; text-align:center; font-size:72%; line-height:1.1em;\">\\n<tr>\\n<td style=\"border:none; padding:0\">\\n<div style=\"position:relative;;\"><a class=\"image\" href=\"/wiki/Fichier:France_relief_location_map.jpg\"><img alt=\"France relief location map.jpg\" data-file-height=\"1922\" data-file-width=\"2000\" height=\"288\" src=\"//upload.wikimedia.org/wikipedia/commons/thumb/f/f7/France_relief_location_map.jpg/300px-France_relief_location_map.jpg\" srcset=\"//upload.wikimedia.org/wikipedia/commons/thumb/f/f7/France_relief_location_map.jpg/450px-France_relief_location_map.jpg 1.5x, //upload.wikimedia.org/wikipedia/commons/thumb/f/f7/France_relief_location_map.jpg/600px-France_relief_location_map.jpg 2x\" width=\"300\"/></a>\\n<div style=\"position:absolute;top:26.127523809525%;left:51.912784810121%;width:0px;height:0px;margin:0;padding:0;line-height:0px;background-color:transparent;\">\\n<div style=\"position:relative;top:-8px;left:-8px;width:16px;height:16px;background-color:transparent;\"><img alt=\"Localisation de la ville\" data-file-height=\"16\" data-file-width=\"16\" height=\"16\" src=\"//upload.wikimedia.org/wikipedia/commons/thumb/2/21/City_locator_4.svg/16px-City_locator_4.svg.png\" srcset=\"//upload.wikimedia.org/wikipedia/commons/thumb/2/21/City_locator_4.svg/24px-City_locator_4.svg.png 1.5x, //upload.wikimedia.org/wikipedia/commons/thumb/2/21/City_locator_4.svg/32px-City_locator_4.svg.png 2x\" width=\"16\"/></div>\\n<div style=\"position:relative;top:-16px;\">\\n<div style=\"font-size:90%;position:relative;top:-0.65em;left:-12.6em;text-align:right;width:12em;line-height:1.2em;\"><span class=\"toponyme\"><b><a href=\"/wiki/Paris_Saint-Germain_Football_Club\" title=\"Paris Saint-Germain Football Club\">Paris SG</a></b></span></div>\\n</div>\\n</div>\\n<div style=\"position:absolute;top:73.919809523813%;left:83.70012658227%;width:0px;height:0px;margin:0;padding:0;line-height:0px;background-color:transparent;\">\\n<div style=\"position:relative;top:-8px;left:-8px;width:16px;height:16px;background-color:transparent;\"><img alt=\"Localisation de la ville\" data-file-height=\"16\" data-file-width=\"16\" height=\"16\" src=\"//upload.wikimedia.org/wikipedia/commons/thumb/2/21/City_locator_4.svg/16px-City_locator_4.svg.png\" srcset=\"//upload.wikimedia.org/wikipedia/commons/thumb/2/21/City_locator_4.svg/24px-City_locator_4.svg.png 1.5x, //upload.wikimedia.org/wikipedia/commons/thumb/2/21/City_locator_4.svg/32px-City_locator_4.svg.png 2x\" width=\"16\"/></div>\\n<div style=\"position:relative;top:-16px;\">\\n<div style=\"font-size:90%;position:relative;top: 0.35em;left: -6em;text-align:center;width:12em;line-height:1.2em;\"><span class=\"toponyme\"><b><a href=\"/wiki/Association_sportive_de_Monaco_football_club\" title=\"Association sportive de Monaco football club\">AS Monaco FC</a></b></span></div>\\n</div>\\n</div>\\n<div style=\"position:absolute;top:54.628190476193%;left:67.314303797462%;width:0px;height:0px;margin:0;padding:0;line-height:0px;background-color:transparent;\">\\n<div style=\"position:relative;top:-8px;left:-8px;width:16px;height:16px;background-color:transparent;\"><img alt=\"Localisation de la ville\" data-file-height=\"16\" data-file-width=\"16\" height=\"16\" src=\"//upload.wikimedia.org/wikipedia/commons/thumb/2/21/City_locator_4.svg/16px-City_locator_4.svg.png\" srcset=\"//upload.wikimedia.org/wikipedia/commons/thumb/2/21/City_locator_4.svg/24px-City_locator_4.svg.png 1.5x, //upload.wikimedia.org/wikipedia/commons/thumb/2/21/City_locator_4.svg/32px-City_locator_4.svg.png 2x\" width=\"16\"/></div>\\n<div style=\"position:relative;top:-16px;\">\\n<div style=\"font-size:90%;position:relative;top:-1.75em;left: -6em;text-align:center;width:12em;line-height:1.2em;\"><span class=\"toponyme\"><b><a href=\"/wiki/Olympique_lyonnais\" title=\"Olympique lyonnais\">Olympique lyonnais</a></b></span></div>\\n</div>\\n</div>\\n<div style=\"position:absolute;top:32.252571428573%;left:26.10310126582%;width:0px;height:0px;margin:0;padding:0;line-height:0px;background-color:transparent;\">\\n<div style=\"position:relative;top:-8px;left:-8px;width:16px;height:16px;background-color:transparent;\"><img alt=\"Localisation de la ville\" data-file-height=\"16\" data-file-width=\"16\" height=\"16\" src=\"//upload.wikimedia.org/wikipedia/commons/thumb/2/21/City_locator_4.svg/16px-City_locator_4.svg.png\" srcset=\"//upload.wikimedia.org/wikipedia/commons/thumb/2/21/City_locator_4.svg/24px-City_locator_4.svg.png 1.5x, //upload.wikimedia.org/wikipedia/commons/thumb/2/21/City_locator_4.svg/32px-City_locator_4.svg.png 2x\" width=\"16\"/></div>\\n<div style=\"position:relative;top:-16px;\">\\n<div style=\"font-size:90%;position:relative;top:-0.65em;left: 0.6em;text-align:left;width:12em;line-height:1.2em;\"><span class=\"toponyme\"><b><a href=\"/wiki/Stade_rennais_football_club\" title=\"Stade rennais football club\">Stade rennais FC</a></b></span></div>\\n</div>\\n</div>\\n<div style=\"position:absolute;top:74.323428571432%;left:82.693607594928%;width:0px;height:0px;margin:0;padding:0;line-height:0px;background-color:transparent;\">\\n<div style=\"position:relative;top:-8px;left:-8px;width:16px;height:16px;background-color:transparent;\"><img alt=\"Localisation de la ville\" data-file-height=\"16\" data-file-width=\"16\" height=\"16\" src=\"//upload.wikimedia.org/wikipedia/commons/thumb/2/21/City_locator_4.svg/16px-City_locator_4.svg.png\" srcset=\"//upload.wikimedia.org/wikipedia/commons/thumb/2/21/City_locator_4.svg/24px-City_locator_4.svg.png 1.5x, //upload.wikimedia.org/wikipedia/commons/thumb/2/21/City_locator_4.svg/32px-City_locator_4.svg.png 2x\" width=\"16\"/></div>\\n<div style=\"position:relative;top:-16px;\">\\n<div style=\"font-size:90%;position:relative;top:-1.65em;left: 0.5em;text-align:left;width:12em;line-height:1.2em;\"><span class=\"toponyme\"><b><a class=\"mw-redirect\" href=\"/wiki/Olympique_gymnaste_club_Nice_C%C3%B4te_d%27Azur\" title=\"Olympique gymnaste club Nice C\\xf4te d'Azur\">OGC Nice</a></b></span></div>\\n</div>\\n</div>\\n<div style=\"position:absolute;top:57.717142857146%;left:64.475822784804%;width:0px;height:0px;margin:0;padding:0;line-height:0px;background-color:transparent;\">\\n<div style=\"position:relative;top:-8px;left:-8px;width:16px;height:16px;background-color:transparent;\"><img alt=\"Localisation de la ville\" data-file-height=\"16\" data-file-width=\"16\" height=\"16\" src=\"//upload.wikimedia.org/wikipedia/commons/thumb/2/21/City_locator_4.svg/16px-City_locator_4.svg.png\" srcset=\"//upload.wikimedia.org/wikipedia/commons/thumb/2/21/City_locator_4.svg/24px-City_locator_4.svg.png 1.5x, //upload.wikimedia.org/wikipedia/commons/thumb/2/21/City_locator_4.svg/32px-City_locator_4.svg.png 2x\" width=\"16\"/></div>\\n<div style=\"position:relative;top:-16px;\">\\n<div style=\"font-size:90%;position:relative;top: 0.35em;left: -6em;text-align:center;width:12em;line-height:1.2em;\"><span class=\"toponyme\"><b><a href=\"/wiki/Association_sportive_de_Saint-%C3%89tienne\" title=\"Association sportive de Saint-\\xc9tienne\">AS Saint-\\xc9tienne</a></b></span></div>\\n</div>\\n</div>\\n<div style=\"position:absolute;top:39.793619047621%;left:68.616392405056%;width:0px;height:0px;margin:0;padding:0;line-height:0px;background-color:transparent;\">\\n<div style=\"position:relative;top:-8px;left:-8px;width:16px;height:16px;background-color:transparent;\"><img alt=\"Localisation de la ville\" data-file-height=\"16\" data-file-width=\"16\" height=\"16\" src=\"//upload.wikimedia.org/wikipedia/commons/thumb/2/21/City_locator_4.svg/16px-City_locator_4.svg.png\" srcset=\"//upload.wikimedia.org/wikipedia/commons/thumb/2/21/City_locator_4.svg/24px-City_locator_4.svg.png 1.5x, //upload.wikimedia.org/wikipedia/commons/thumb/2/21/City_locator_4.svg/32px-City_locator_4.svg.png 2x\" width=\"16\"/></div>\\n<div style=\"position:relative;top:-16px;\">\\n<div style=\"font-size:90%;position:relative;top:-1.75em;left: -6em;text-align:center;width:12em;line-height:1.2em;\"><span class=\"toponyme\"><b><a href=\"/wiki/Dijon_Football_C%C3%B4te-d%27Or\" title=\"Dijon Football C\\xf4te-d'Or\">Dijon FCO</a></b></span></div>\\n</div>\\n</div>\\n<div style=\"position:absolute;top:36.613333333335%;left:33.383702531642%;width:0px;height:0px;margin:0;padding:0;line-height:0px;background-color:transparent;\">\\n<div style=\"position:relative;top:-8px;left:-8px;width:16px;height:16px;background-color:transparent;\"><img alt=\"Localisation de la ville\" data-file-height=\"16\" data-file-width=\"16\" height=\"16\" src=\"//upload.wikimedia.org/wikipedia/commons/thumb/2/21/City_locator_4.svg/16px-City_locator_4.svg.png\" srcset=\"//upload.wikimedia.org/wikipedia/commons/thumb/2/21/City_locator_4.svg/24px-City_locator_4.svg.png 1.5x, //upload.wikimedia.org/wikipedia/commons/thumb/2/21/City_locator_4.svg/32px-City_locator_4.svg.png 2x\" width=\"16\"/></div>\\n<div style=\"position:relative;top:-16px;\">\\n<div style=\"font-size:90%;position:relative;top: 0.25em;left: 0.6em;text-align:left;width:12em;line-height:1.2em;\"><span class=\"toponyme\"><b><a href=\"/wiki/Angers_sporting_club_de_l%27Ouest\" title=\"Angers sporting club de l'Ouest\">Angers SCO</a></b></span></div>\\n</div>\\n</div>\\n<div style=\"position:absolute;top:8.2928571428576%;left:56.058607594931%;width:0px;height:0px;margin:0;padding:0;line-height:0px;background-color:transparent;\">\\n<div style=\"position:relative;top:-8px;left:-8px;width:16px;height:16px;background-color:transparent;\"><img alt=\"Localisation de la ville\" data-file-height=\"16\" data-file-width=\"16\" height=\"16\" src=\"//upload.wikimedia.org/wikipedia/commons/thumb/2/21/City_locator_4.svg/16px-City_locator_4.svg.png\" srcset=\"//upload.wikimedia.org/wikipedia/commons/thumb/2/21/City_locator_4.svg/24px-City_locator_4.svg.png 1.5x, //upload.wikimedia.org/wikipedia/commons/thumb/2/21/City_locator_4.svg/32px-City_locator_4.svg.png 2x\" width=\"16\"/></div>\\n<div style=\"position:relative;top:-16px;\">\\n<div style=\"font-size:90%;position:relative;top:-0.65em;left:-12.6em;text-align:right;width:12em;line-height:1.2em;\"><span class=\"toponyme\"><b><a href=\"/wiki/LOSC_Lille\" title=\"LOSC Lille\">Lille OSC</a></b></span></div>\\n</div>\\n</div>\\n<div style=\"position:absolute;top:22.066133333334%;left:34.370607594933%;width:0px;height:0px;margin:0;padding:0;line-height:0px;background-color:transparent;\">\\n<div style=\"position:relative;top:-8px;left:-8px;width:16px;height:16px;background-color:transparent;\"><img alt=\"Localisation de la ville\" data-file-height=\"16\" data-file-width=\"16\" height=\"16\" src=\"//upload.wikimedia.org/wikipedia/commons/thumb/2/21/City_locator_4.svg/16px-City_locator_4.svg.png\" srcset=\"//upload.wikimedia.org/wikipedia/commons/thumb/2/21/City_locator_4.svg/24px-City_locator_4.svg.png 1.5x, //upload.wikimedia.org/wikipedia/commons/thumb/2/21/City_locator_4.svg/32px-City_locator_4.svg.png 2x\" width=\"16\"/></div>\\n<div style=\"position:relative;top:-16px;\">\\n<div style=\"font-size:90%;position:relative;top:-1.75em;left: -6em;text-align:center;width:12em;line-height:1.2em;\"><span class=\"toponyme\"><b><a href=\"/wiki/Stade_Malherbe_Caen_Calvados_Basse-Normandie\" title=\"Stade Malherbe Caen Calvados Basse-Normandie\">SM Caen</a></b></span></div>\\n</div>\\n</div>\\n<div style=\"position:absolute;top:27.488571428573%;left:75.850759493663%;width:0px;height:0px;margin:0;padding:0;line-height:0px;background-color:transparent;\">\\n<div style=\"position:relative;top:-8px;left:-8px;width:16px;height:16px;background-color:transparent;\"><img alt=\"Localisation de la ville\" data-file-height=\"16\" data-file-width=\"16\" height=\"16\" src=\"//upload.wikimedia.org/wikipedia/commons/thumb/2/21/City_locator_4.svg/16px-City_locator_4.svg.png\" srcset=\"//upload.wikimedia.org/wikipedia/commons/thumb/2/21/City_locator_4.svg/24px-City_locator_4.svg.png 1.5x, //upload.wikimedia.org/wikipedia/commons/thumb/2/21/City_locator_4.svg/32px-City_locator_4.svg.png 2x\" width=\"16\"/></div>\\n<div style=\"position:relative;top:-16px;\">\\n<div style=\"font-size:90%;position:relative;top: 0.35em;left: -6em;text-align:center;width:12em;line-height:1.2em;\"><span class=\"toponyme\"><b><a href=\"/wiki/Association_sportive_Nancy-Lorraine\" title=\"Association sportive Nancy-Lorraine\">AS Nancy-Lorraine</a></b></span></div>\\n</div>\\n</div>\\n<div style=\"position:absolute;top:40.422857142859%;left:27.054588607592%;width:0px;height:0px;margin:0;padding:0;line-height:0px;background-color:transparent;\">\\n<div style=\"position:relative;top:-8px;left:-8px;width:16px;height:16px;background-color:transparent;\"><img alt=\"Localisation de la ville\" data-file-height=\"16\" data-file-width=\"16\" height=\"16\" src=\"//upload.wikimedia.org/wikipedia/commons/thumb/2/21/City_locator_4.svg/16px-City_locator_4.svg.png\" srcset=\"//upload.wikimedia.org/wikipedia/commons/thumb/2/21/City_locator_4.svg/24px-City_locator_4.svg.png 1.5x, //upload.wikimedia.org/wikipedia/commons/thumb/2/21/City_locator_4.svg/32px-City_locator_4.svg.png 2x\" width=\"16\"/></div>\\n<div style=\"position:relative;top:-16px;\">\\n<div style=\"font-size:90%;position:relative;top: 0.35em;left: -6em;text-align:center;width:12em;line-height:1.2em;\"><span class=\"toponyme\"><b><a href=\"/wiki/Football_Club_de_Nantes\" title=\"Football Club de Nantes\">FC Nantes</a></b></span></div>\\n</div>\\n</div>\\n<div style=\"position:absolute;top:75.135523809528%;left:61.245063291133%;width:0px;height:0px;margin:0;padding:0;line-height:0px;background-color:transparent;\">\\n<div style=\"position:relative;top:-8px;left:-8px;width:16px;height:16px;background-color:transparent;\"><img alt=\"Localisation de la ville\" data-file-height=\"16\" data-file-width=\"16\" height=\"16\" src=\"//upload.wikimedia.org/wikipedia/commons/thumb/2/21/City_locator_4.svg/16px-City_locator_4.svg.png\" srcset=\"//upload.wikimedia.org/wikipedia/commons/thumb/2/21/City_locator_4.svg/24px-City_locator_4.svg.png 1.5x, //upload.wikimedia.org/wikipedia/commons/thumb/2/21/City_locator_4.svg/32px-City_locator_4.svg.png 2x\" width=\"16\"/></div>\\n<div style=\"position:relative;top:-16px;\">\\n<div style=\"font-size:90%;position:relative;top:-1.75em;left: -6em;text-align:center;width:12em;line-height:1.2em;\"><span class=\"toponyme\"><b><a href=\"/wiki/Montpellier_H%C3%A9rault_Sport_Club\" title=\"Montpellier H\\xe9rault Sport Club\">Montpellier HSC</a></b></span></div>\\n</div>\\n</div>\\n<div style=\"position:absolute;top:63.449619047622%;left:33.043164556959%;width:0px;height:0px;margin:0;padding:0;line-height:0px;background-color:transparent;\">\\n<div style=\"position:relative;top:-8px;left:-8px;width:16px;height:16px;background-color:transparent;\"><img alt=\"Localisation de la ville\" data-file-height=\"16\" data-file-width=\"16\" height=\"16\" src=\"//upload.wikimedia.org/wikipedia/commons/thumb/2/21/City_locator_4.svg/16px-City_locator_4.svg.png\" srcset=\"//upload.wikimedia.org/wikipedia/commons/thumb/2/21/City_locator_4.svg/24px-City_locator_4.svg.png 1.5x, //upload.wikimedia.org/wikipedia/commons/thumb/2/21/City_locator_4.svg/32px-City_locator_4.svg.png 2x\" width=\"16\"/></div>\\n<div style=\"position:relative;top:-16px;\">\\n<div style=\"font-size:90%;position:relative;top:-1.65em;left:-12.5em;text-align:right;width:12em;line-height:1.2em;\"><span class=\"toponyme\"><b><a href=\"/wiki/Football_Club_des_Girondins_de_Bordeaux\" title=\"Football Club des Girondins de Bordeaux\">FC Girondins de Bordeaux</a></b></span></div>\\n</div>\\n</div>\\n<div style=\"position:absolute;top:83.835428571433%;left:96.524556962016%;width:0px;height:0px;margin:0;padding:0;line-height:0px;background-color:transparent;\">\\n<div style=\"position:relative;top:-8px;left:-8px;width:16px;height:16px;background-color:transparent;\"><img alt=\"Localisation de la ville\" data-file-height=\"16\" data-file-width=\"16\" height=\"16\" src=\"//upload.wikimedia.org/wikipedia/commons/thumb/2/21/City_locator_4.svg/16px-City_locator_4.svg.png\" srcset=\"//upload.wikimedia.org/wikipedia/commons/thumb/2/21/City_locator_4.svg/24px-City_locator_4.svg.png 1.5x, //upload.wikimedia.org/wikipedia/commons/thumb/2/21/City_locator_4.svg/32px-City_locator_4.svg.png 2x\" width=\"16\"/></div>\\n<div style=\"position:relative;top:-16px;\">\\n<div style=\"font-size:90%;position:relative;top: 0.25em;left:-12.5em;text-align:right;width:12em;line-height:1.2em;\"><span class=\"toponyme\"><b><a href=\"/wiki/Sporting_Club_de_Bastia\" title=\"Sporting Club de Bastia\">SC Bastia</a></b></span></div>\\n</div>\\n</div>\\n<div style=\"position:absolute;top:27.941361904763%;left:16.680974683543%;width:0px;height:0px;margin:0;padding:0;line-height:0px;background-color:transparent;\">\\n<div style=\"position:relative;top:-8px;left:-8px;width:16px;height:16px;background-color:transparent;\"><img alt=\"Localisation de la ville\" data-file-height=\"16\" data-file-width=\"16\" height=\"16\" src=\"//upload.wikimedia.org/wikipedia/commons/thumb/2/21/City_locator_4.svg/16px-City_locator_4.svg.png\" srcset=\"//upload.wikimedia.org/wikipedia/commons/thumb/2/21/City_locator_4.svg/24px-City_locator_4.svg.png 1.5x, //upload.wikimedia.org/wikipedia/commons/thumb/2/21/City_locator_4.svg/32px-City_locator_4.svg.png 2x\" width=\"16\"/></div>\\n<div style=\"position:relative;top:-16px;\">\\n<div style=\"font-size:90%;position:relative;top:-1.75em;left: -6em;text-align:center;width:12em;line-height:1.2em;\"><span class=\"toponyme\"><b><a href=\"/wiki/En_Avant_de_Guingamp\" title=\"En Avant de Guingamp\">EA Guingamp</a></b></span></div>\\n</div>\\n</div>\\n<div style=\"position:absolute;top:35.730952380954%;left:15.3782278481%;width:0px;height:0px;margin:0;padding:0;line-height:0px;background-color:transparent;\">\\n<div style=\"position:relative;top:-8px;left:-8px;width:16px;height:16px;background-color:transparent;\"><img alt=\"Localisation de la ville\" data-file-height=\"16\" data-file-width=\"16\" height=\"16\" src=\"//upload.wikimedia.org/wikipedia/commons/thumb/2/21/City_locator_4.svg/16px-City_locator_4.svg.png\" srcset=\"//upload.wikimedia.org/wikipedia/commons/thumb/2/21/City_locator_4.svg/24px-City_locator_4.svg.png 1.5x, //upload.wikimedia.org/wikipedia/commons/thumb/2/21/City_locator_4.svg/32px-City_locator_4.svg.png 2x\" width=\"16\"/></div>\\n<div style=\"position:relative;top:-16px;\">\\n<div style=\"font-size:90%;position:relative;top: 0.35em;left: -6em;text-align:center;width:12em;line-height:1.2em;\"><span class=\"toponyme\"><b><a class=\"mw-redirect\" href=\"/wiki/Football_Club_Lorient-Bretagne_Sud\" title=\"Football Club Lorient-Bretagne Sud\">FC Lorient</a></b></span></div>\\n</div>\\n</div>\\n<div style=\"position:absolute;top:78.128761904766%;left:70.694810126575%;width:0px;height:0px;margin:0;padding:0;line-height:0px;background-color:transparent;\">\\n<div style=\"position:relative;top:-8px;left:-8px;width:16px;height:16px;background-color:transparent;\"><img alt=\"Localisation de la ville\" data-file-height=\"16\" data-file-width=\"16\" height=\"16\" src=\"//upload.wikimedia.org/wikipedia/commons/thumb/2/21/City_locator_4.svg/16px-City_locator_4.svg.png\" srcset=\"//upload.wikimedia.org/wikipedia/commons/thumb/2/21/City_locator_4.svg/24px-City_locator_4.svg.png 1.5x, //upload.wikimedia.org/wikipedia/commons/thumb/2/21/City_locator_4.svg/32px-City_locator_4.svg.png 2x\" width=\"16\"/></div>\\n<div style=\"position:relative;top:-16px;\">\\n<div style=\"font-size:90%;position:relative;top: 0.35em;left: -6em;text-align:center;width:12em;line-height:1.2em;\"><span class=\"toponyme\"><b><a href=\"/wiki/Olympique_de_Marseille\" title=\"Olympique de Marseille\">Olympique de<br/>\\nMarseille</a></b></span></div>\\n</div>\\n</div>\\n<div style=\"position:absolute;top:22.857142857144%;left:75.962025316448%;width:0px;height:0px;margin:0;padding:0;line-height:0px;background-color:transparent;\">\\n<div style=\"position:relative;top:-8px;left:-8px;width:16px;height:16px;background-color:transparent;\"><img alt=\"Localisation de la ville\" data-file-height=\"16\" data-file-width=\"16\" height=\"16\" src=\"//upload.wikimedia.org/wikipedia/commons/thumb/2/21/City_locator_4.svg/16px-City_locator_4.svg.png\" srcset=\"//upload.wikimedia.org/wikipedia/commons/thumb/2/21/City_locator_4.svg/24px-City_locator_4.svg.png 1.5x, //upload.wikimedia.org/wikipedia/commons/thumb/2/21/City_locator_4.svg/32px-City_locator_4.svg.png 2x\" width=\"16\"/></div>\\n<div style=\"position:relative;top:-16px;\">\\n<div style=\"font-size:90%;position:relative;top:-1.75em;left: -6em;text-align:center;width:12em;line-height:1.2em;\"><span class=\"toponyme\"><b><a href=\"/wiki/Football_Club_de_Metz\" title=\"Football Club de Metz\">FC Metz</a></b></span></div>\\n</div>\\n</div>\\n<div style=\"position:absolute;top:75.195409523813%;left:45.847860759489%;width:0px;height:0px;margin:0;padding:0;line-height:0px;background-color:transparent;\">\\n<div style=\"position:relative;top:-8px;left:-8px;width:16px;height:16px;background-color:transparent;\"><img alt=\"Localisation de la ville\" data-file-height=\"16\" data-file-width=\"16\" height=\"16\" src=\"//upload.wikimedia.org/wikipedia/commons/thumb/2/21/City_locator_4.svg/16px-City_locator_4.svg.png\" srcset=\"//upload.wikimedia.org/wikipedia/commons/thumb/2/21/City_locator_4.svg/24px-City_locator_4.svg.png 1.5x, //upload.wikimedia.org/wikipedia/commons/thumb/2/21/City_locator_4.svg/32px-City_locator_4.svg.png 2x\" width=\"16\"/></div>\\n<div style=\"position:relative;top:-16px;\">\\n<div style=\"font-size:90%;position:relative;top:-0.65em;left:-12.6em;text-align:right;width:12em;line-height:1.2em;\"><span class=\"toponyme\"><b><a href=\"/wiki/Toulouse_Football_Club\" title=\"Toulouse Football Club\">Toulouse FC</a></b></span></div>\\n</div>\\n</div>\\n</div>\\n</td>\\n</tr>\\n</table>\\n</div>\\n<div class=\"thumbcaption\">\\n<div class=\"magnify\"><a href=\"/wiki/Fichier:France_relief_location_map.jpg\" title=\"Voir l\\u2019image vierge\"><img alt=\"Voir l\\u2019image vierge\" data-file-height=\"11\" data-file-width=\"15\" height=\"11\" src=\"//upload.wikimedia.org/wikipedia/commons/6/6b/Magnify-clip.png\" width=\"15\"/></a></div>\\nLocalisation des clubs engag\\xe9s dans le championnat.</div>\\n</div>\\n</td>\\n</tr>\\n</table>"
      ]
     },
     "execution_count": 13,
     "metadata": {},
     "output_type": "execute_result"
    }
   ],
   "source": [
    "page.findAll(\"table\")[3]"
   ]
  },
  {
   "cell_type": "code",
   "execution_count": 14,
   "metadata": {},
   "outputs": [
    {
     "name": "stdout",
     "output_type": "stream",
     "text": [
      "<a class=\"image\" href=\"/wiki/Fichier:France_relief_location_map.jpg\"><img alt=\"France relief location map.jpg\" data-file-height=\"1922\" data-file-width=\"2000\" height=\"288\" src=\"//upload.wikimedia.org/wikipedia/commons/thumb/f/f7/France_relief_location_map.jpg/300px-France_relief_location_map.jpg\" srcset=\"//upload.wikimedia.org/wikipedia/commons/thumb/f/f7/France_relief_location_map.jpg/450px-France_relief_location_map.jpg 1.5x, //upload.wikimedia.org/wikipedia/commons/thumb/f/f7/France_relief_location_map.jpg/600px-France_relief_location_map.jpg 2x\" width=\"300\"/></a> \n",
      "-----\n",
      "<a href=\"/wiki/Paris_Saint-Germain_Football_Club\" title=\"Paris Saint-Germain Football Club\">Paris SG</a> \n",
      "-----\n",
      "<a href=\"/wiki/Association_sportive_de_Monaco_football_club\" title=\"Association sportive de Monaco football club\">AS Monaco FC</a> \n",
      "-----\n",
      "<a href=\"/wiki/Olympique_lyonnais\" title=\"Olympique lyonnais\">Olympique lyonnais</a> \n",
      "-----\n",
      "<a href=\"/wiki/Stade_rennais_football_club\" title=\"Stade rennais football club\">Stade rennais FC</a> \n",
      "-----\n"
     ]
    }
   ],
   "source": [
    "for item in page.find(\"table\",{'class' : 'DebutCarte'}).findAll({'a'})[0:5] :\n",
    "    print item , \"\\n-----\" # wwe can remove \\n--- they will be no pb"
   ]
  },
  {
   "cell_type": "code",
   "execution_count": 15,
   "metadata": {},
   "outputs": [
    {
     "name": "stdout",
     "output_type": "stream",
     "text": [
      "(0, <a class=\"image\" href=\"/wiki/Fichier:France_relief_location_map.jpg\"><img alt=\"France relief location map.jpg\" data-file-height=\"1922\" data-file-width=\"2000\" height=\"288\" src=\"//upload.wikimedia.org/wikipedia/commons/thumb/f/f7/France_relief_location_map.jpg/300px-France_relief_location_map.jpg\" srcset=\"//upload.wikimedia.org/wikipedia/commons/thumb/f/f7/France_relief_location_map.jpg/450px-France_relief_location_map.jpg 1.5x, //upload.wikimedia.org/wikipedia/commons/thumb/f/f7/France_relief_location_map.jpg/600px-France_relief_location_map.jpg 2x\" width=\"300\"/></a>)\n",
      "(1, <a href=\"/wiki/Paris_Saint-Germain_Football_Club\" title=\"Paris Saint-Germain Football Club\">Paris SG</a>)\n",
      "(2, <a href=\"/wiki/Association_sportive_de_Monaco_football_club\" title=\"Association sportive de Monaco football club\">AS Monaco FC</a>)\n",
      "(3, <a href=\"/wiki/Olympique_lyonnais\" title=\"Olympique lyonnais\">Olympique lyonnais</a>)\n",
      "(4, <a href=\"/wiki/Stade_rennais_football_club\" title=\"Stade rennais football club\">Stade rennais FC</a>)\n"
     ]
    }
   ],
   "source": [
    "### condition sur la place dans la liste >>>> MAUVAIS\n",
    "for e in enumerate(page.find('table', {'class' : 'DebutCarte'}).findAll({'a'})[0:5]) :\n",
    "    print e\n"
   ]
  },
  {
   "cell_type": "code",
   "execution_count": 16,
   "metadata": {},
   "outputs": [
    {
     "name": "stdout",
     "output_type": "stream",
     "text": [
      "<a href=\"/wiki/Paris_Saint-Germain_Football_Club\" title=\"Paris Saint-Germain Football Club\">Paris SG</a>\n",
      "<a href=\"/wiki/Association_sportive_de_Monaco_football_club\" title=\"Association sportive de Monaco football club\">AS Monaco FC</a>\n",
      "<a href=\"/wiki/Olympique_lyonnais\" title=\"Olympique lyonnais\">Olympique lyonnais</a>\n",
      "<a href=\"/wiki/Stade_rennais_football_club\" title=\"Stade rennais football club\">Stade rennais FC</a>\n"
     ]
    }
   ],
   "source": [
    "for e, item in enumerate(page.find('table', {'class' : 'DebutCarte'}).findAll({'a'})[0:5]) :\n",
    "    if  e == 0:\n",
    "        pass\n",
    "    else :\n",
    "        print item"
   ]
  },
  {
   "cell_type": "code",
   "execution_count": 17,
   "metadata": {},
   "outputs": [
    {
     "name": "stdout",
     "output_type": "stream",
     "text": [
      "<a href=\"/wiki/Paris_Saint-Germain_Football_Club\" title=\"Paris Saint-Germain Football Club\">Paris SG</a>\n",
      "<a href=\"/wiki/Association_sportive_de_Monaco_football_club\" title=\"Association sportive de Monaco football club\">AS Monaco FC</a>\n",
      "<a href=\"/wiki/Olympique_lyonnais\" title=\"Olympique lyonnais\">Olympique lyonnais</a>\n",
      "<a href=\"/wiki/Stade_rennais_football_club\" title=\"Stade rennais football club\">Stade rennais FC</a>\n"
     ]
    }
   ],
   "source": [
    "## condition sur les éléments que doit avoir la ligne >>>> BIEN\n",
    "#sa joue le meme role que le precedent code\n",
    "for item in page.find('table', {'class' : 'DebutCarte'}).findAll({'a'})[0:5] :\n",
    "    if item.get(\"title\") :\n",
    "        print(item)"
   ]
  },
  {
   "cell_type": "code",
   "execution_count": 18,
   "metadata": {},
   "outputs": [
    {
     "name": "stdout",
     "output_type": "stream",
     "text": [
      "/wiki/Paris_Saint-Germain_Football_Club\n",
      "Paris SG\n",
      "/wiki/Association_sportive_de_Monaco_football_club\n",
      "AS Monaco FC\n",
      "/wiki/Olympique_lyonnais\n",
      "Olympique lyonnais\n",
      "/wiki/Stade_rennais_football_club\n",
      "Stade rennais FC\n"
     ]
    }
   ],
   "source": [
    "##Enfin la dernière étape, consiste à obtenir les informations souhaitées, c’est à dire dans notre cas, le nom et l’url des 20 clubs.\n",
    "\n",
    "##Pour cela, nous allons utiliser deux méthodes de l’élement item : - getText() qui permet d’obtenir le texte qui est sur la page web et dans la balise < a> - get(‘xxxx’) qui permet d’obtenir l’élément qui est égal à xxxx\n",
    "\n",
    "##Dans notre cas, nous allons vouloir le nom du club ainsi que l’url : on va donc utiliser getText et get(“href”)\n",
    "for item in page.find('table', {'class' : 'DebutCarte'}).findAll({'a'})[0:5] :\n",
    "    if item.get(\"title\") :\n",
    "        print(item.get(\"href\"))\n",
    "        print(item.getText())\n",
    "\n"
   ]
  },
  {
   "cell_type": "code",
   "execution_count": 19,
   "metadata": {},
   "outputs": [
    {
     "name": "stdout",
     "output_type": "stream",
     "text": [
      "Paris Saint-Germain Football Club\n",
      "Association sportive de Monaco football club\n",
      "Olympique lyonnais\n",
      "Stade rennais football club\n",
      "Olympique gymnaste club Nice Côte d'Azur\n",
      "Association sportive de Saint-Étienne\n",
      "Dijon Football Côte-d'Or\n",
      "Angers sporting club de l'Ouest\n",
      "LOSC Lille\n"
     ]
    }
   ],
   "source": [
    "# pour avoir le nom officiel, on aurait utiliser l'élément <title>\n",
    "for item in page.find('table', {'class' : 'DebutCarte'}).findAll({'a'})[0:10] :\n",
    "    if item.get(\"title\") :\n",
    "        print(item.get(\"title\"))"
   ]
  },
  {
   "cell_type": "code",
   "execution_count": 23,
   "metadata": {
    "collapsed": true
   },
   "outputs": [],
   "source": [
    "#Toutes ces informations, on souhaite les conserver dans un tableau Excel pour pouvoir les réuitiliser à l’envie : pour cela, \n",
    "#rien de plus simple, on va passer par pandas, parce qu’on le maitrise parfaitement à ce stade de la formation.\n",
    "import pandas as pd\n",
    "\n",
    "liste_noms = []\n",
    "liste_urls = []\n",
    "\n",
    "for item in page.find('table', {'class' : 'DebutCarte'}).findAll({'a'}) :\n",
    "    if item.get(\"title\") :\n",
    "        liste_urls.append(item.get(\"href\"))\n",
    "        liste_noms.append(item.getText())\n",
    "\n",
    "df = pd.DataFrame.from_dict( {\"clubs\" : liste_noms, 'url' : liste_urls})"
   ]
  },
  {
   "cell_type": "code",
   "execution_count": 24,
   "metadata": {},
   "outputs": [
    {
     "data": {
      "text/html": [
       "<div>\n",
       "<style>\n",
       "    .dataframe thead tr:only-child th {\n",
       "        text-align: right;\n",
       "    }\n",
       "\n",
       "    .dataframe thead th {\n",
       "        text-align: left;\n",
       "    }\n",
       "\n",
       "    .dataframe tbody tr th {\n",
       "        vertical-align: top;\n",
       "    }\n",
       "</style>\n",
       "<table border=\"1\" class=\"dataframe\">\n",
       "  <thead>\n",
       "    <tr style=\"text-align: right;\">\n",
       "      <th></th>\n",
       "      <th>clubs</th>\n",
       "      <th>url</th>\n",
       "    </tr>\n",
       "  </thead>\n",
       "  <tbody>\n",
       "    <tr>\n",
       "      <th>0</th>\n",
       "      <td>Paris SG</td>\n",
       "      <td>/wiki/Paris_Saint-Germain_Football_Club</td>\n",
       "    </tr>\n",
       "    <tr>\n",
       "      <th>1</th>\n",
       "      <td>AS Monaco FC</td>\n",
       "      <td>/wiki/Association_sportive_de_Monaco_football_...</td>\n",
       "    </tr>\n",
       "    <tr>\n",
       "      <th>2</th>\n",
       "      <td>Olympique lyonnais</td>\n",
       "      <td>/wiki/Olympique_lyonnais</td>\n",
       "    </tr>\n",
       "    <tr>\n",
       "      <th>3</th>\n",
       "      <td>Stade rennais FC</td>\n",
       "      <td>/wiki/Stade_rennais_football_club</td>\n",
       "    </tr>\n",
       "    <tr>\n",
       "      <th>4</th>\n",
       "      <td>OGC Nice</td>\n",
       "      <td>/wiki/Olympique_gymnaste_club_Nice_C%C3%B4te_d...</td>\n",
       "    </tr>\n",
       "  </tbody>\n",
       "</table>\n",
       "</div>"
      ],
      "text/plain": [
       "                clubs                                                url\n",
       "0            Paris SG            /wiki/Paris_Saint-Germain_Football_Club\n",
       "1        AS Monaco FC  /wiki/Association_sportive_de_Monaco_football_...\n",
       "2  Olympique lyonnais                           /wiki/Olympique_lyonnais\n",
       "3    Stade rennais FC                  /wiki/Stade_rennais_football_club\n",
       "4            OGC Nice  /wiki/Olympique_gymnaste_club_Nice_C%C3%B4te_d..."
      ]
     },
     "execution_count": 24,
     "metadata": {},
     "output_type": "execute_result"
    }
   ],
   "source": [
    "df.head()"
   ]
  },
  {
   "cell_type": "code",
   "execution_count": 25,
   "metadata": {},
   "outputs": [
    {
     "data": {
      "text/plain": [
       "0              Paris SG\n",
       "1          AS Monaco FC\n",
       "2    Olympique lyonnais\n",
       "3      Stade rennais FC\n",
       "4              OGC Nice\n",
       "5      AS Saint-Étienne\n",
       "Name: clubs, dtype: object"
      ]
     },
     "execution_count": 25,
     "metadata": {},
     "output_type": "execute_result"
    }
   ],
   "source": [
    "df.clubs[0:6]"
   ]
  },
  {
   "cell_type": "code",
   "execution_count": 26,
   "metadata": {
    "collapsed": true
   },
   "outputs": [],
   "source": [
    "## Exercice de web scraping avec BeautifulSoup"
   ]
  },
  {
   "cell_type": "code",
   "execution_count": 27,
   "metadata": {
    "collapsed": true
   },
   "outputs": [],
   "source": [
    "import selenium #pip install selenium"
   ]
  },
  {
   "cell_type": "code",
   "execution_count": 28,
   "metadata": {
    "collapsed": true
   },
   "outputs": [],
   "source": [
    "path_to_web_driver = \"./chromedriver\"# telecharger le chrome browser"
   ]
  },
  {
   "cell_type": "code",
   "execution_count": 29,
   "metadata": {
    "collapsed": true
   },
   "outputs": [],
   "source": [
    "import os , sys"
   ]
  },
  {
   "cell_type": "code",
   "execution_count": 31,
   "metadata": {},
   "outputs": [
    {
     "ename": "ImportError",
     "evalue": "No module named pyquickhelper",
     "output_type": "error",
     "traceback": [
      "\u001b[0;31m---------------------------------------------------------------------------\u001b[0m",
      "\u001b[0;31mImportError\u001b[0m                               Traceback (most recent call last)",
      "\u001b[0;32m<ipython-input-31-85e339c8a290>\u001b[0m in \u001b[0;36m<module>\u001b[0;34m()\u001b[0m\n\u001b[1;32m      1\u001b[0m \u001b[0;31m#help('module')\u001b[0m\u001b[0;34m\u001b[0m\u001b[0;34m\u001b[0m\u001b[0m\n\u001b[0;32m----> 2\u001b[0;31m \u001b[0;32mimport\u001b[0m \u001b[0mpyquickhelper\u001b[0m\u001b[0;34m\u001b[0m\u001b[0m\n\u001b[0m\u001b[1;32m      3\u001b[0m \u001b[0;32mfrom\u001b[0m \u001b[0mpyquickhelper\u001b[0m\u001b[0;34m.\u001b[0m\u001b[0mfilehelper\u001b[0m \u001b[0;32mimport\u001b[0m \u001b[0mdownload\u001b[0m\u001b[0;34m,\u001b[0m \u001b[0munzip_files\u001b[0m\u001b[0;34m\u001b[0m\u001b[0m\n",
      "\u001b[0;31mImportError\u001b[0m: No module named pyquickhelper"
     ]
    }
   ],
   "source": [
    "#help('module')\n",
    "import pyquickhelper\n",
    "from pyquickhelper.filehelper import download, unzip_files"
   ]
  },
  {
   "cell_type": "code",
   "execution_count": 28,
   "metadata": {
    "collapsed": true
   },
   "outputs": [],
   "source": [
    "#from __future__ import print_function\n",
    "#import sys\n",
    "#import os\n",
    "\n",
    "#from distutils.core import setup, Extension\n",
    "#import distutils.sysconfig as SH\n",
    "#from setuptools import find_packages\n"
   ]
  },
  {
   "cell_type": "code",
   "execution_count": 42,
   "metadata": {
    "collapsed": true
   },
   "outputs": [],
   "source": [
    "import matplotlib"
   ]
  },
  {
   "cell_type": "code",
   "execution_count": 35,
   "metadata": {},
   "outputs": [
    {
     "name": "stdout",
     "output_type": "stream",
     "text": [
      "\n",
      "Please wait a moment while I gather a list of all available modules...\n",
      "\n"
     ]
    },
    {
     "name": "stderr",
     "output_type": "stream",
     "text": [
      "/usr/local/lib/python2.7/dist-packages/IPython/kernel/__init__.py:13: ShimWarning: The `IPython.kernel` package has been deprecated since IPython 4.0.You should import from ipykernel or jupyter_client instead.\n",
      "  \"You should import from ipykernel or jupyter_client instead.\", ShimWarning)\n",
      "/usr/local/lib/python2.7/dist-packages/IPython/nbformat.py:13: ShimWarning: The `IPython.nbformat` package has been deprecated since IPython 4.0. You should import from nbformat instead.\n",
      "  \"You should import from nbformat instead.\", ShimWarning)\n",
      "/usr/local/lib/python2.7/dist-packages/IPython/config.py:13: ShimWarning: The `IPython.config` package has been deprecated since IPython 4.0. You should import from traitlets.config instead.\n",
      "  \"You should import from traitlets.config instead.\", ShimWarning)\n",
      "/usr/local/lib/python2.7/dist-packages/IPython/utils/traitlets.py:5: UserWarning: IPython.utils.traitlets has moved to a top-level traitlets package.\n",
      "  warn(\"IPython.utils.traitlets has moved to a top-level traitlets package.\")\n",
      "/usr/local/lib/python2.7/dist-packages/IPython/nbconvert.py:13: ShimWarning: The `IPython.nbconvert` package has been deprecated since IPython 4.0. You should import from nbconvert instead.\n",
      "  \"You should import from nbconvert instead.\", ShimWarning)\n",
      "/usr/local/lib/python2.7/dist-packages/IPython/utils/log.py:5: UserWarning: IPython.utils.log has moved to traitlets.log\n",
      "  warn(\"IPython.utils.log has moved to traitlets.log\")\n",
      "/usr/local/lib/python2.7/dist-packages/theano/sandbox/gpuarray/__init__.py:10: UserWarning: theano.sandbox.gpuarray has been moved to theano.gpuarray. Please update your code and pickles. If the warning persists, clear theano's cache ('$theano/bin/theano-cache clear').\n",
      "  warnings.warn(message)\n",
      "/usr/lib/python2.7/dist-packages/gobject/constants.py:24: Warning: g_boxed_type_register_static: assertion 'g_type_from_name (name) == 0' failed\n",
      "  import gobject._gobject\n"
     ]
    }
   ],
   "source": [
    "#import Pyquickhelper\n",
    "help('modules')"
   ]
  },
  {
   "cell_type": "code",
   "execution_count": 38,
   "metadata": {
    "collapsed": true
   },
   "outputs": [],
   "source": [
    "help('modules')"
   ]
  },
  {
   "cell_type": "code",
   "execution_count": 39,
   "metadata": {},
   "outputs": [
    {
     "ename": "ImportError",
     "evalue": "No module named jyquickhelper",
     "output_type": "error",
     "traceback": [
      "\u001b[0;31m---------------------------------------------------------------------------\u001b[0m",
      "\u001b[0;31mImportError\u001b[0m                               Traceback (most recent call last)",
      "\u001b[0;32m<ipython-input-39-fce573139cf8>\u001b[0m in \u001b[0;36m<module>\u001b[0;34m()\u001b[0m\n\u001b[1;32m      1\u001b[0m \u001b[0;31m#from pyquickhelper.filehelper import\u001b[0m\u001b[0;34m\u001b[0m\u001b[0;34m\u001b[0m\u001b[0m\n\u001b[0;32m----> 2\u001b[0;31m \u001b[0;32mfrom\u001b[0m \u001b[0mjyquickhelper\u001b[0m \u001b[0;32mimport\u001b[0m \u001b[0madd_notebook_menu\u001b[0m\u001b[0;34m\u001b[0m\u001b[0m\n\u001b[0m",
      "\u001b[0;31mImportError\u001b[0m: No module named jyquickhelper"
     ]
    }
   ],
   "source": [
    "#from pyquickhelper.filehelper import\n",
    "from jyquickhelper import add_notebook_menu"
   ]
  },
  {
   "cell_type": "code",
   "execution_count": 40,
   "metadata": {},
   "outputs": [
    {
     "data": {
      "text/plain": [
       "u'/home/irene'"
      ]
     },
     "execution_count": 40,
     "metadata": {},
     "output_type": "execute_result"
    }
   ],
   "source": [
    "pwd"
   ]
  },
  {
   "cell_type": "code",
   "execution_count": 47,
   "metadata": {
    "collapsed": true
   },
   "outputs": [],
   "source": [
    "cd Telechargements/"
   ]
  },
  {
   "cell_type": "code",
   "execution_count": 49,
   "metadata": {},
   "outputs": [
    {
     "data": {
      "text/plain": [
       "u'/home/irene/T\\xe9l\\xe9chargements'"
      ]
     },
     "execution_count": 49,
     "metadata": {},
     "output_type": "execute_result"
    }
   ],
   "source": [
    "pwd"
   ]
  },
  {
   "cell_type": "code",
   "execution_count": 52,
   "metadata": {
    "collapsed": true
   },
   "outputs": [],
   "source": [
    "cd ~"
   ]
  },
  {
   "cell_type": "code",
   "execution_count": 54,
   "metadata": {},
   "outputs": [
    {
     "data": {
      "text/plain": [
       "u'/home/irene'"
      ]
     },
     "execution_count": 54,
     "metadata": {},
     "output_type": "execute_result"
    }
   ],
   "source": [
    "pwd"
   ]
  },
  {
   "cell_type": "code",
   "execution_count": null,
   "metadata": {
    "collapsed": true
   },
   "outputs": [],
   "source": [
    "import pyquickhelper"
   ]
  }
 ],
 "metadata": {
  "kernelspec": {
   "display_name": "Python 2",
   "language": "python",
   "name": "python2"
  },
  "language_info": {
   "codemirror_mode": {
    "name": "ipython",
    "version": 2
   },
   "file_extension": ".py",
   "mimetype": "text/x-python",
   "name": "python",
   "nbconvert_exporter": "python",
   "pygments_lexer": "ipython2",
   "version": "2.7.6"
  }
 },
 "nbformat": 4,
 "nbformat_minor": 1
}
