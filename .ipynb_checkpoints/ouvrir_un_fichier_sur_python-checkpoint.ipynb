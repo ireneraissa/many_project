{
 "cells": [
  {
   "cell_type": "code",
   "execution_count": 1,
   "metadata": {},
   "outputs": [],
   "source": [
    "G=open(\"/home/irene/Bureau/texte_anglais\", \"r\")\n",
    "#def raissa(w):\n",
    "    #for line in G.input() :\n",
    "       # words = line.split(\"w\")\n",
    "        #for word in words:\n",
    "            #verify_lexicon(word, default_lexicon)\n",
    "           # def verify_lexicon(word, lexicon=()):\n",
    "    #if word not in lexicon:\n",
    "        #print(\"word %s not in lexicon\" % word)\n",
    "\n",
    "#if __name__ == \"__main__\":\n",
    "    #main()\n",
    "            \n",
    "            \n",
    "            \n",
    "            \n",
    "   # if a(i)=\"w\":\n",
    "        #nb=nb+1\n",
    "       # return(nb)\n",
    "    "
   ]
  },
  {
   "cell_type": "code",
   "execution_count": 2,
   "metadata": {},
   "outputs": [
    {
     "data": {
      "text/plain": [
       "<_io.TextIOWrapper name='/home/irene/Bureau/texte_anglais' mode='r' encoding='UTF-8'>"
      ]
     },
     "execution_count": 2,
     "metadata": {},
     "output_type": "execute_result"
    }
   ],
   "source": [
    "G"
   ]
  },
  {
   "cell_type": "code",
   "execution_count": 3,
   "metadata": {},
   "outputs": [
    {
     "name": "stdout",
     "output_type": "stream",
     "text": [
      "le texte est celui-ci <_io.TextIOWrapper name='/home/irene/Bureau/texte_anglais' mode='r' encoding='UTF-8'>\n"
     ]
    }
   ],
   "source": [
    "print('le texte est celui-ci',G)"
   ]
  },
  {
   "cell_type": "code",
   "execution_count": null,
   "metadata": {},
   "outputs": [],
   "source": []
  }
 ],
 "metadata": {
  "kernelspec": {
   "display_name": "Python 3",
   "language": "python",
   "name": "python3"
  },
  "language_info": {
   "codemirror_mode": {
    "name": "ipython",
    "version": 3
   },
   "file_extension": ".py",
   "mimetype": "text/x-python",
   "name": "python",
   "nbconvert_exporter": "python",
   "pygments_lexer": "ipython3",
   "version": "3.5.2"
  }
 },
 "nbformat": 4,
 "nbformat_minor": 1
}
