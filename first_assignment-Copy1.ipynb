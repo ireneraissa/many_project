{
 "cells": [
  {
   "cell_type": "markdown",
   "metadata": {},
   "source": [
    "# site d'annuaire des entreprises au senegal\n",
    "-http://www.lespagesjaunesafrique.com/pays/senegal/                                                                     \n",
    "-https://www.goafricaonline.com/sn/annuaire  \n",
    "-http://www.afrikeco.com/annuaire/senegal/secteurs                                                                           \n",
    "-http://www.expat.com/fr/entreprises/afrique/senegal/"
   ]
  },
  {
   "cell_type": "code",
   "execution_count": 1,
   "metadata": {
    "collapsed": true
   },
   "outputs": [],
   "source": [
    "import selenium #pip install selenium"
   ]
  },
  {
   "cell_type": "code",
   "execution_count": 2,
   "metadata": {
    "collapsed": true
   },
   "outputs": [],
   "source": [
    "path_to_web_driver = '/home/irene/chromedriver'"
   ]
  },
  {
   "cell_type": "code",
   "execution_count": 3,
   "metadata": {
    "collapsed": true
   },
   "outputs": [],
   "source": [
    "from selenium import webdriver\n",
    "from selenium.webdriver.common.keys import Keys"
   ]
  },
  {
   "cell_type": "code",
   "execution_count": 4,
   "metadata": {
    "collapsed": true
   },
   "outputs": [],
   "source": [
    "from selenium.webdriver import Chrome"
   ]
  },
  {
   "cell_type": "code",
   "execution_count": 66,
   "metadata": {
    "collapsed": true
   },
   "outputs": [],
   "source": [
    "browser = webdriver.Chrome(path_to_web_driver)\n",
    "browser.get('http://pagesjaunesdusenegal.com/')"
   ]
  },
  {
   "cell_type": "code",
   "execution_count": 67,
   "metadata": {
    "collapsed": true
   },
   "outputs": [],
   "source": [
    "# on cherche l'endroit où on peut remplir un formulaire en utilisant les outils du navigateur > inspecter les éléments de la page\n",
    "# on voit que la barre de recherche est un élement du code appelé 'q' comme query\n",
    "# on lui demande de chercher cet élément\n",
    "search = browser.find_element_by_name('quoi')\n",
    "search1=browser.find_element_by_name('ou')\n",
    "search2=browser.find_element_by_xpath('//*[@id=\"form_search\"]/div/table/tbody/tr[1]/td[6]/a') \n",
    "# on envoie à cet endroit le mot qu'on aurait tapé dans la barre de recherche\n",
    "search.send_keys(\"agriculture\")\n",
    "search1.send_keys(\"DAKAR\")"
   ]
  },
  {
   "cell_type": "code",
   "execution_count": 68,
   "metadata": {
    "collapsed": true
   },
   "outputs": [],
   "source": [
    "#search1.send_keys(Keys.RETURN)\n",
    "search2.send_keys(Keys.RETURN)\n",
    "#search.send_keys.getElementById('form_search').submit()\n",
    "# on appuie sur le bouton \"Entrée\" Return en anglais\n",
    "#search.send_keys(Keys.)"
   ]
  },
  {
   "cell_type": "code",
   "execution_count": 69,
   "metadata": {},
   "outputs": [],
   "source": [
    "\n",
    "INFOS=[]"
   ]
  },
  {
   "cell_type": "code",
   "execution_count": 70,
   "metadata": {
    "collapsed": true
   },
   "outputs": [],
   "source": [
    "\n",
    "#for row in browser.find_elements_by_tag_name('div'):\n",
    " #   url=row.find_element_by_xpath('/html/body/div/div[4]')\n",
    "  #  all_infos.append(url.text)\n",
    "browsers = browser.find_element_by_xpath('/html/body/div/div[4]')\n",
    "\n",
    "\n",
    "for line in browsers.find_elements_by_tag_name('button'):\n",
    "    line.send_keys(Keys.ENTER)\n"
   ]
  },
  {
   "cell_type": "code",
   "execution_count": 239,
   "metadata": {},
   "outputs": [],
   "source": [
    "#als_info=[]\n",
    "#all_infos=[]\n",
    "#for div in browsers.find_elements_by_tag_name('table'):\n",
    "    \n",
    "  #  alls_info.append(div.text)\n",
    "  #  als_info.append(alls_info)\n",
    "    #all_infos.append(alls_infos)\n",
    "    \n",
    "    #url=cell.find_element_by_tag_name('div')\n",
    "   # all_infos.append(line.text)\n",
    "als_info=[]  \n",
    "for div in browsers.find_elements_by_class_name('desk-result'):\n",
    "    all_info=[]\n",
    "    all_info.append(div.text)\n",
    "    als_info.append(all_info)\n",
    "    \n",
    "als_info.remove(['Accueil > Résultats de recherche'])"
   ]
  },
  {
   "cell_type": "code",
   "execution_count": 275,
   "metadata": {},
   "outputs": [
    {
     "data": {
      "text/plain": [
       "[['CARRE VERT\\nTEL: 338225771\\n   Afficher le numéro\\n15, Rue Robert Brun, Dakar\\nBP: 2114, DAKAR\\nEmail: carrevertp@orange.sn\\n\\nVoir fiche | Présentation\\nNotez ce professionnel\\n1\\n2\\n3\\n4\\n5\\nETS TRAORE ET FILS\\nTEL: 338344172\\n   Afficher le numéro\\nKm 13, Route de Rufisque, Thiaroye\\nBP: 20151 Thiaroye, THIAROYE\\nEmail: rokhaya.traore@yahoo.fr\\nSite Web: www.etstraoretfils.com\\nFax: 338349907\\n\\nVoir fiche | Présentation\\nNotez ce professionnel\\n1\\n2\\n3\\n4\\n5'],\n",
       " ['SOUBAS INTERNATIONAL\\nTEL: 338243410\\n   Afficher le numéro\\nRond Point Liberté 5, Sacré Coeur, Immeuble Adja Coura N° 5426\\nEmail: contact@soubas.com / constructions@soubas.com\\nSite Web: www.soubas.com\\nFax: 338256244\\n\\nVoir fiche | Présentation\\nNotez ce professionnel\\n1\\n2\\n3\\n4\\n5\\nAssociation Nationale de Solidarité (KAARING)\\nTEL: 221 77 876 93 87\\n   Afficher le numéro\\nParcelles Assainies, Unité 05 Villa N° 076\\nEmail: germainficou34@gmail.com\\n\\nVoir fiche | Visiter le site\\nNotez ce professionnel\\n1\\n2\\n3\\n4\\n5'],\n",
       " ['CPH WEST AFRICA SARL\\nTEL: 33 827 77 08\\n   Afficher le numéro\\n2 voies Liberté 6 Ext en Face Hopital SAMU municipal\\nBP: 64860 Dakar - FANN,\\nEmail: cphwestafrica@gmail.com\\nSite Web: www.cphwa.com\\n\\nVoir fiche | Visiter le site\\nNotez ce professionnel\\n1\\n2\\n3\\n4\\n5\\nSika Technologie\\nTEL: +221 774406367\\n   Afficher le numéro\\nCité keur gorgui lot n2\\nEmail: sika.contacts@gmail.com\\nSite Web: www.sikatechnologie.com\\n\\nVoir fiche | Visiter le site\\nNotez ce professionnel\\n1\\n2\\n3\\n4\\n5'],\n",
       " ['BEPCO SENEGAL\\nTEL: 338203541\\n   Afficher le numéro\\nOuest foire lot 22 aprés samsung ouest foire vers fedrations senegalaise de foot.\\nBP: 99120,\\nEmail: bndbepcosen@live.fr\\nSite Web: https://www.facebook.com/bepco.senegal?fref=ts\\nFax: 338203541\\n\\nVoir fiche | Visiter le site\\nNotez ce professionnel\\n1\\n2\\n3\\n4\\n5\\nAGRIPRO\\nTEL: 338675533 / 783010101\\n   Afficher le numéro\\nLogo\\nOuest Foire Cite port autonome de Dakar\\nEmail: agripro@agriproafrica.com\\nSite Web: www.agriproafrica.com\\n\\nVoir fiche | Visiter le site\\nNotez ce professionnel\\n1\\n2\\n3\\n4\\n5'],\n",
       " ['PRODUMEL SENEGAL SUARL\\nTEL: 338200169\\n   Afficher le numéro\\nLogo\\nyoff aéroport , YOFF, Dakar\\nEmail: produmel.dk@hotmail.fr\\n\\nVoir fiche | Visiter le site\\nNotez ce professionnel\\n1\\n2\\n3\\n4\\n5\\nAFRIK BUSINESS DIFFUSION\\nTEL: 338652414\\n   Afficher le numéro\\nLogo\\nOuest foire, cité Bourgi\\nEmail: infos@afrikbusinessdiffusion.com\\nSite Web: www.afrikbusinessdiffusion.com\\n\\nVoir fiche | Visiter le site\\nNotez ce professionnel\\n1\\n2\\n3\\n4\\n5']]"
      ]
     },
     "execution_count": 275,
     "metadata": {},
     "output_type": "execute_result"
    }
   ],
   "source": [
    "#for line in als_infos:\n",
    "    #print(line.replace('1', ''))\n",
    "als_info"
   ]
  },
  {
   "cell_type": "code",
   "execution_count": 276,
   "metadata": {},
   "outputs": [
    {
     "ename": "TypeError",
     "evalue": "sequence item 0: expected str instance, list found",
     "output_type": "error",
     "traceback": [
      "\u001b[0;31m---------------------------------------------------------------------------\u001b[0m",
      "\u001b[0;31mTypeError\u001b[0m                                 Traceback (most recent call last)",
      "\u001b[0;32m<ipython-input-276-65d4b9bae065>\u001b[0m in \u001b[0;36m<module>\u001b[0;34m()\u001b[0m\n\u001b[0;32m----> 1\u001b[0;31m \u001b[0;34m\" [] \"\u001b[0m\u001b[0;34m.\u001b[0m\u001b[0mjoin\u001b[0m\u001b[0;34m(\u001b[0m\u001b[0mals_info\u001b[0m\u001b[0;34m)\u001b[0m\u001b[0;34m\u001b[0m\u001b[0m\n\u001b[0m\u001b[1;32m      2\u001b[0m \u001b[0;34m\u001b[0m\u001b[0m\n",
      "\u001b[0;31mTypeError\u001b[0m: sequence item 0: expected str instance, list found"
     ]
    }
   ],
   "source": [
    "\" [] \".join(als_info)\n",
    "\n"
   ]
  },
  {
   "cell_type": "code",
   "execution_count": 274,
   "metadata": {},
   "outputs": [
    {
     "data": {
      "text/plain": [
       "['SOUBAS INTERNATIONAL\\nTEL',\n",
       " ' 338243410\\n   Afficher le numéro\\nRond Point Liberté 5, Sacré Coeur, Immeuble Adja Coura N° 5426\\nEmail',\n",
       " ' contact@soubas.com / constructions@soubas.com\\nSite Web',\n",
       " ' www.soubas.com\\nFax',\n",
       " ' 338256244\\n\\nVoir fiche | Présentation\\nNotez ce professionnel\\n1\\n2\\n3\\n4\\n5\\nAssociation Nationale de Solidarité (KAARING)\\nTEL',\n",
       " ' 221 77 876 93 87\\n   Afficher le numéro\\nParcelles Assainies, Unité 05 Villa N° 076\\nEmail',\n",
       " ' germainficou34@gmail.com\\n\\nVoir fiche | Visiter le site\\nNotez ce professionnel\\n1\\n2\\n3\\n4\\n5']"
      ]
     },
     "execution_count": 274,
     "metadata": {},
     "output_type": "execute_result"
    }
   ],
   "source": [
    "als_info[1][0].split(\":\")"
   ]
  },
  {
   "cell_type": "code",
   "execution_count": 253,
   "metadata": {},
   "outputs": [
    {
     "ename": "AttributeError",
     "evalue": "'list' object has no attribute 'replace'",
     "output_type": "error",
     "traceback": [
      "\u001b[0;31m---------------------------------------------------------------------------\u001b[0m",
      "\u001b[0;31mAttributeError\u001b[0m                            Traceback (most recent call last)",
      "\u001b[0;32m<ipython-input-253-9900836e8859>\u001b[0m in \u001b[0;36m<module>\u001b[0;34m()\u001b[0m\n\u001b[1;32m      1\u001b[0m \u001b[0;32mfor\u001b[0m \u001b[0mj\u001b[0m \u001b[0;32min\u001b[0m \u001b[0mrange\u001b[0m\u001b[0;34m(\u001b[0m\u001b[0mlen\u001b[0m\u001b[0;34m(\u001b[0m\u001b[0mals_info\u001b[0m\u001b[0;34m)\u001b[0m\u001b[0;34m)\u001b[0m\u001b[0;34m:\u001b[0m\u001b[0;34m\u001b[0m\u001b[0m\n\u001b[1;32m      2\u001b[0m     \u001b[0;32mfor\u001b[0m \u001b[0mi\u001b[0m \u001b[0;32min\u001b[0m \u001b[0mrange\u001b[0m\u001b[0;34m(\u001b[0m\u001b[0mlen\u001b[0m\u001b[0;34m(\u001b[0m\u001b[0mals_info\u001b[0m\u001b[0;34m[\u001b[0m\u001b[0mj\u001b[0m\u001b[0;34m]\u001b[0m\u001b[0;34m)\u001b[0m\u001b[0;34m)\u001b[0m\u001b[0;34m:\u001b[0m\u001b[0;34m\u001b[0m\u001b[0m\n\u001b[0;32m----> 3\u001b[0;31m         \u001b[0mals_info\u001b[0m\u001b[0;34m[\u001b[0m\u001b[0mi\u001b[0m\u001b[0;34m]\u001b[0m\u001b[0;34m.\u001b[0m\u001b[0mreplace\u001b[0m\u001b[0;34m(\u001b[0m\u001b[0;34m'\\n1\\n2\\n3\\n4\\n5\\n'\u001b[0m\u001b[0;34m,\u001b[0m\u001b[0;34m','\u001b[0m\u001b[0;34m)\u001b[0m\u001b[0;34m\u001b[0m\u001b[0m\n\u001b[0m\u001b[1;32m      4\u001b[0m         \u001b[0mals_info\u001b[0m\u001b[0;34m[\u001b[0m\u001b[0mi\u001b[0m\u001b[0;34m]\u001b[0m\u001b[0;34m.\u001b[0m\u001b[0mreplace\u001b[0m\u001b[0;34m(\u001b[0m\u001b[0;34m'\\n1\\n2\\n3\\n4\\n5'\u001b[0m\u001b[0;34m,\u001b[0m\u001b[0;34m','\u001b[0m\u001b[0;34m)\u001b[0m\u001b[0;34m\u001b[0m\u001b[0m\n\u001b[1;32m      5\u001b[0m \u001b[0;34m\u001b[0m\u001b[0m\n",
      "\u001b[0;31mAttributeError\u001b[0m: 'list' object has no attribute 'replace'"
     ]
    }
   ],
   "source": [
    "for j in range(len(als_info)):\n",
    "    for i in range(len(als_info[j])):\n",
    "        als_info[i].replace('\\n1\\n2\\n3\\n4\\n5\\n',',')\n",
    "        als_info[i].replace('\\n1\\n2\\n3\\n4\\n5',',')\n",
    "  "
   ]
  },
  {
   "cell_type": "code",
   "execution_count": 244,
   "metadata": {},
   "outputs": [
    {
     "data": {
      "text/plain": [
       "[['CARRE VERT\\nTEL: 338225771\\n   Afficher le numéro\\n15, Rue Robert Brun, Dakar\\nBP: 2114, DAKAR\\nEmail: carrevertp@orange.sn\\n\\nVoir fiche | Présentation\\nNotez ce professionnel\\n1\\n2\\n3\\n4\\n5\\nETS TRAORE ET FILS\\nTEL: 338344172\\n   Afficher le numéro\\nKm 13, Route de Rufisque, Thiaroye\\nBP: 20151 Thiaroye, THIAROYE\\nEmail: rokhaya.traore@yahoo.fr\\nSite Web: www.etstraoretfils.com\\nFax: 338349907\\n\\nVoir fiche | Présentation\\nNotez ce professionnel\\n1\\n2\\n3\\n4\\n5'],\n",
       " ['SOUBAS INTERNATIONAL\\nTEL: 338243410\\n   Afficher le numéro\\nRond Point Liberté 5, Sacré Coeur, Immeuble Adja Coura N° 5426\\nEmail: contact@soubas.com / constructions@soubas.com\\nSite Web: www.soubas.com\\nFax: 338256244\\n\\nVoir fiche | Présentation\\nNotez ce professionnel\\n1\\n2\\n3\\n4\\n5\\nAssociation Nationale de Solidarité (KAARING)\\nTEL: 221 77 876 93 87\\n   Afficher le numéro\\nParcelles Assainies, Unité 05 Villa N° 076\\nEmail: germainficou34@gmail.com\\n\\nVoir fiche | Visiter le site\\nNotez ce professionnel\\n1\\n2\\n3\\n4\\n5'],\n",
       " ['CPH WEST AFRICA SARL\\nTEL: 33 827 77 08\\n   Afficher le numéro\\n2 voies Liberté 6 Ext en Face Hopital SAMU municipal\\nBP: 64860 Dakar - FANN,\\nEmail: cphwestafrica@gmail.com\\nSite Web: www.cphwa.com\\n\\nVoir fiche | Visiter le site\\nNotez ce professionnel\\n1\\n2\\n3\\n4\\n5\\nSika Technologie\\nTEL: +221 774406367\\n   Afficher le numéro\\nCité keur gorgui lot n2\\nEmail: sika.contacts@gmail.com\\nSite Web: www.sikatechnologie.com\\n\\nVoir fiche | Visiter le site\\nNotez ce professionnel\\n1\\n2\\n3\\n4\\n5'],\n",
       " ['BEPCO SENEGAL\\nTEL: 338203541\\n   Afficher le numéro\\nOuest foire lot 22 aprés samsung ouest foire vers fedrations senegalaise de foot.\\nBP: 99120,\\nEmail: bndbepcosen@live.fr\\nSite Web: https://www.facebook.com/bepco.senegal?fref=ts\\nFax: 338203541\\n\\nVoir fiche | Visiter le site\\nNotez ce professionnel\\n1\\n2\\n3\\n4\\n5\\nAGRIPRO\\nTEL: 338675533 / 783010101\\n   Afficher le numéro\\nLogo\\nOuest Foire Cite port autonome de Dakar\\nEmail: agripro@agriproafrica.com\\nSite Web: www.agriproafrica.com\\n\\nVoir fiche | Visiter le site\\nNotez ce professionnel\\n1\\n2\\n3\\n4\\n5'],\n",
       " ['PRODUMEL SENEGAL SUARL\\nTEL: 338200169\\n   Afficher le numéro\\nLogo\\nyoff aéroport , YOFF, Dakar\\nEmail: produmel.dk@hotmail.fr\\n\\nVoir fiche | Visiter le site\\nNotez ce professionnel\\n1\\n2\\n3\\n4\\n5\\nAFRIK BUSINESS DIFFUSION\\nTEL: 338652414\\n   Afficher le numéro\\nLogo\\nOuest foire, cité Bourgi\\nEmail: infos@afrikbusinessdiffusion.com\\nSite Web: www.afrikbusinessdiffusion.com\\n\\nVoir fiche | Visiter le site\\nNotez ce professionnel\\n1\\n2\\n3\\n4\\n5']]"
      ]
     },
     "execution_count": 244,
     "metadata": {},
     "output_type": "execute_result"
    }
   ],
   "source": [
    "als_info"
   ]
  },
  {
   "cell_type": "code",
   "execution_count": 88,
   "metadata": {},
   "outputs": [],
   "source": [
    "INFOS=[]\n",
    "for i in range(len(als_infos)) :\n",
    "    intermediaire=[]\n",
    "    intermediaire.append(als_infos[i])\n",
    "    INFOS.append(intermediaire)"
   ]
  },
  {
   "cell_type": "code",
   "execution_count": 97,
   "metadata": {},
   "outputs": [
    {
     "data": {
      "text/plain": [
       "['PRODUMEL SENEGAL SUARL\\nTEL: 338200169\\n   Afficher le numéro\\nLogo\\nyoff aéroport , YOFF, Dakar\\nEmail: produmel.dk@hotmail.fr\\n\\nVoir fiche | Visiter le site\\nNotez ce professionnel\\n1\\n2\\n3\\n4\\n5\\nAFRIK BUSINESS DIFFUSION\\nTEL: 338652414\\n   Afficher le numéro\\nLogo\\nOuest foire, cité Bourgi\\nEmail: infos@afrikbusinessdiffusion.com\\nSite Web: www.afrikbusinessdiffusion.com\\n\\nVoir fiche | Visiter le site\\nNotez ce professionnel\\n1\\n2\\n3\\n4\\n5']"
      ]
     },
     "execution_count": 97,
     "metadata": {},
     "output_type": "execute_result"
    }
   ],
   "source": [
    "range(len(als_infos)) \n",
    "intermediaire"
   ]
  },
  {
   "cell_type": "code",
   "execution_count": 101,
   "metadata": {},
   "outputs": [
    {
     "ename": "TypeError",
     "evalue": "list indices must be integers or slices, not str",
     "output_type": "error",
     "traceback": [
      "\u001b[0;31m---------------------------------------------------------------------------\u001b[0m",
      "\u001b[0;31mTypeError\u001b[0m                                 Traceback (most recent call last)",
      "\u001b[0;32m<ipython-input-101-812c50ef6e4e>\u001b[0m in \u001b[0;36m<module>\u001b[0;34m()\u001b[0m\n\u001b[0;32m----> 1\u001b[0;31m \u001b[0mintermediaire\u001b[0m\u001b[0;34m[\u001b[0m \u001b[0;34m'\\n1\\n2\\n3\\n4\\n5\\ '\u001b[0m\u001b[0;34m]\u001b[0m\u001b[0;34m=\u001b[0m\u001b[0;34m''\u001b[0m\u001b[0;34m\u001b[0m\u001b[0m\n\u001b[0m",
      "\u001b[0;31mTypeError\u001b[0m: list indices must be integers or slices, not str"
     ]
    }
   ],
   "source": [
    "intermediaire[ '\\n1\\n2\\n3\\n4\\n5\\ ']=''"
   ]
  },
  {
   "cell_type": "code",
   "execution_count": 223,
   "metadata": {
    "collapsed": true
   },
   "outputs": [],
   "source": [
    "all_infos.remove(['Accueil > Résultats de recherche'])"
   ]
  },
  {
   "cell_type": "code",
   "execution_count": 12,
   "metadata": {
    "collapsed": true
   },
   "outputs": [],
   "source": [
    "\n",
    "if browsers.find_element_by_class_name(\"pagination\") != '' : #in browsers :\n",
    "    \n",
    "    driver= browsers.find_element_by_class_name(\"pagination\")\n",
    "    \n",
    "        \n",
    "    for line in driver.find_elements_by_tag_name('a'):\n",
    "        if line.text =='>':\n",
    "            line.send_keys(Keys.ENTER)\n",
    "    "
   ]
  },
  {
   "cell_type": "code",
   "execution_count": 13,
   "metadata": {
    "collapsed": true
   },
   "outputs": [],
   "source": [
    "browserss = browser.find_element_by_xpath('/html/body/div/div[4]')\n",
    "            "
   ]
  },
  {
   "cell_type": "code",
   "execution_count": 14,
   "metadata": {
    "collapsed": true
   },
   "outputs": [],
   "source": [
    "alls_infos=[]\n",
    "for line in browserss.find_elements_by_tag_name('button'):\n",
    "    line.send_keys(Keys.ENTER)\n",
    "for line in browserss.find_elements_by_tag_name('table'):\n",
    "    alls_infos.append(line.text)"
   ]
  },
  {
   "cell_type": "code",
   "execution_count": 61,
   "metadata": {
    "collapsed": true
   },
   "outputs": [],
   "source": [
    "\n",
    "    "
   ]
  },
  {
   "cell_type": "code",
   "execution_count": 64,
   "metadata": {
    "collapsed": true
   },
   "outputs": [],
   "source": [
    "if browser.find_element_by_class_name(\"pagination\") != None :\n",
    "    longue=len(browser.find_element_by_class_name(\"pagination\").find_elements_by_tag_name('a'))\n"
   ]
  },
  {
   "cell_type": "code",
   "execution_count": 226,
   "metadata": {
    "collapsed": true
   },
   "outputs": [],
   "source": [
    "#INFOS=[] \n",
    "#browsers = browser.find_element_by_xpath('/html/body/div/div[4]')\n",
    "while browser.find_element_by_class_name(\"pagination\").find_elements_by_tag_name('a')[len(browser.find_element_by_class_name(\"pagination\").find_elements_by_tag_name('a'))-1].text == '>' : #in browsers :\n",
    "    \n",
    "    driver= browser.find_element_by_class_name(\"pagination\")\n",
    "    \n",
    "    \n",
    "    \n",
    "    for line in driver.find_elements_by_tag_name('a'):\n",
    "        \n",
    "        while line.text =='>':\n",
    "            \n",
    "            line.send_keys(Keys.ENTER)\n",
    "            \n",
    "\n",
    "             \n",
    "            browsers = browser.find_element_by_xpath('/html/body/div/div[4]')\n",
    "            for line in browsers.find_elements_by_tag_name('button'):\n",
    "                line.send_keys(Keys.ENTER)\n",
    "            als_info=[]  \n",
    "            for div in browsers.find_elements_by_class_name('desk-result'):\n",
    "                all_info=[]\n",
    "                all_info.append(div.text)\n",
    "                als_info.append(all_info)\n",
    "                all_infos.append(als_info)\n",
    "    all_infos.remove(['Accueil > Résultats de recherche'])\n"
   ]
  },
  {
   "cell_type": "code",
   "execution_count": 227,
   "metadata": {},
   "outputs": [
    {
     "data": {
      "text/plain": [
       "[['CARRE VERT\\nTEL: 338225771\\n   Afficher le numéro\\n15, Rue Robert Brun, Dakar\\nBP: 2114, DAKAR\\nEmail: carrevertp@orange.sn\\n\\nVoir fiche | Présentation\\nNotez ce professionnel\\n1\\n2\\n3\\n4\\n5\\nETS TRAORE ET FILS\\nTEL: 338344172\\n   Afficher le numéro\\nKm 13, Route de Rufisque, Thiaroye\\nBP: 20151 Thiaroye, THIAROYE\\nEmail: rokhaya.traore@yahoo.fr\\nSite Web: www.etstraoretfils.com\\nFax: 338349907\\n\\nVoir fiche | Présentation\\nNotez ce professionnel\\n1\\n2\\n3\\n4\\n5'],\n",
       " ['SOUBAS INTERNATIONAL\\nTEL: 338243410\\n   Afficher le numéro\\nRond Point Liberté 5, Sacré Coeur, Immeuble Adja Coura N° 5426\\nEmail: contact@soubas.com / constructions@soubas.com\\nSite Web: www.soubas.com\\nFax: 338256244\\n\\nVoir fiche | Présentation\\nNotez ce professionnel\\n1\\n2\\n3\\n4\\n5\\nAssociation Nationale de Solidarité (KAARING)\\nTEL: 221 77 876 93 87\\n   Afficher le numéro\\nParcelles Assainies, Unité 05 Villa N° 076\\nEmail: germainficou34@gmail.com\\n\\nVoir fiche | Visiter le site\\nNotez ce professionnel\\n1\\n2\\n3\\n4\\n5'],\n",
       " ['CPH WEST AFRICA SARL\\nTEL: 33 827 77 08\\n   Afficher le numéro\\n2 voies Liberté 6 Ext en Face Hopital SAMU municipal\\nBP: 64860 Dakar - FANN,\\nEmail: cphwestafrica@gmail.com\\nSite Web: www.cphwa.com\\n\\nVoir fiche | Visiter le site\\nNotez ce professionnel\\n1\\n2\\n3\\n4\\n5\\nSika Technologie\\nTEL: +221 774406367\\n   Afficher le numéro\\nCité keur gorgui lot n2\\nEmail: sika.contacts@gmail.com\\nSite Web: www.sikatechnologie.com\\n\\nVoir fiche | Visiter le site\\nNotez ce professionnel\\n1\\n2\\n3\\n4\\n5'],\n",
       " ['BEPCO SENEGAL\\nTEL: 338203541\\n   Afficher le numéro\\nOuest foire lot 22 aprés samsung ouest foire vers fedrations senegalaise de foot.\\nBP: 99120,\\nEmail: bndbepcosen@live.fr\\nSite Web: https://www.facebook.com/bepco.senegal?fref=ts\\nFax: 338203541\\n\\nVoir fiche | Visiter le site\\nNotez ce professionnel\\n1\\n2\\n3\\n4\\n5\\nAGRIPRO\\nTEL: 338675533 / 783010101\\n   Afficher le numéro\\nLogo\\nOuest Foire Cite port autonome de Dakar\\nEmail: agripro@agriproafrica.com\\nSite Web: www.agriproafrica.com\\n\\nVoir fiche | Visiter le site\\nNotez ce professionnel\\n1\\n2\\n3\\n4\\n5'],\n",
       " ['PRODUMEL SENEGAL SUARL\\nTEL: 338200169\\n   Afficher le numéro\\nLogo\\nyoff aéroport , YOFF, Dakar\\nEmail: produmel.dk@hotmail.fr\\n\\nVoir fiche | Visiter le site\\nNotez ce professionnel\\n1\\n2\\n3\\n4\\n5\\nAFRIK BUSINESS DIFFUSION\\nTEL: 338652414\\n   Afficher le numéro\\nLogo\\nOuest foire, cité Bourgi\\nEmail: infos@afrikbusinessdiffusion.com\\nSite Web: www.afrikbusinessdiffusion.com\\n\\nVoir fiche | Visiter le site\\nNotez ce professionnel\\n1\\n2\\n3\\n4\\n5'],\n",
       " ['ChoisirLeSénégal\\nTEL: 777303095\\n   Afficher le numéro\\nZone A villa 68/B\\nEmail: papifay@gmail.com\\nSite Web: www.choisirlesenegal.com\\n\\nVoir fiche | Visiter le site\\nNotez ce professionnel\\n1\\n2\\n3\\n4\\n5\\nChoisirLeSénégal\\nTEL: 777303095\\n   Afficher le numéro\\nZone A villa 68/B\\nEmail: papifay@gmail.com\\nSite Web: www.choisirlesenegal.com\\n\\nVoir fiche | Visiter le site\\nNotez ce professionnel\\n1\\n2\\n3\\n4\\n5'],\n",
       " ['AgroTechnikAfrica-Senegal\\nTEL: 338347167\\n   Afficher le numéro\\nEntrée Pikine face Eglise Notre Dame du Cap Vert\\nBP: 18155 DKR,\\nEmail: atasenegal2016@gmail.com\\nFax: 338347167\\n\\nVoir fiche | Visiter le site\\nNotez ce professionnel\\n1\\n2\\n3\\n4\\n5\\nAgroTechnikAfrica-Senegal\\nTEL: 338347167\\n   Afficher le numéro\\nEntrée Pikine face Eglise Notre Dame du Cap Vert\\nBP: 18155 DKR,\\nEmail: atasenegal2016@gmail.com\\nFax: 338347167\\n\\nVoir fiche | Visiter le site\\nNotez ce professionnel\\n1\\n2\\n3\\n4\\n5'],\n",
       " ['Terroir Food Sénégal\\nTEL: 338641281\\n   Afficher le numéro\\nOuagou Niayes 2\\nEmail: terroirfoodsenegal@gmail.com\\nSite Web: www.terroirfoodsenegal.com\\n\\nVoir fiche | Visiter le site\\nNotez ce professionnel\\n1\\n2\\n3\\n4\\n5\\nBarnypok\\nTEL: 61137414100\\n   Afficher le numéro\\nLogo\\nVbQNwNWPedgqyVUxqCH\\nBP: VYibOfvaucycgBP,\\nSite Web: http://www.FyLitCl7Pf7ojQdDUOLQOuaxTXbj5iNG.com\\nFax: 81568182027\\n\\nVoir fiche | Visiter le site\\nNotez ce professionnel\\n1\\n2\\n3\\n4\\n5'],\n",
       " ['Barnypok\\nTEL: 61137414100\\n   Afficher le numéro\\nLogo\\nVbQNwNWPedgqyVUxqCH\\nBP: VYibOfvaucycgBP,\\nSite Web: http://www.FyLitCl7Pf7ojQdDUOLQOuaxTXbj5iNG.com\\nFax: 81568182027\\n\\nVoir fiche | Visiter le site\\nNotez ce professionnel\\n1\\n2\\n3\\n4\\n5\\nBarnypok\\nTEL: 61137414100\\n   Afficher le numéro\\nLogo\\nVbQNwNWPedgqyVUxqCH\\nBP: VYibOfvaucycgBP,\\nSite Web: http://www.FyLitCl7Pf7ojQdDUOLQOuaxTXbj5iNG.com\\nFax: 81568182027\\n\\nVoir fiche | Visiter le site\\nNotez ce professionnel\\n1\\n2\\n3\\n4\\n5'],\n",
       " ['Barnypok\\nTEL: 61137414100\\n   Afficher le numéro\\nLogo\\nVbQNwNWPedgqyVUxqCH\\nBP: VYibOfvaucycgBP,\\nSite Web: http://www.FyLitCl7Pf7ojQdDUOLQOuaxTXbj5iNG.com\\nFax: 81568182027\\n\\nVoir fiche | Visiter le site\\nNotez ce professionnel\\n1\\n2\\n3\\n4\\n5\\nBarnypok\\nTEL: 23754172474\\n   Afficher le numéro\\nLogo\\nGJcwCbdWdv\\nBP: leHjpVbo,\\nSite Web: http://www.FyLitCl7Pf7ojQdDUOLQOuaxTXbj5iNG.com\\nFax: 43233196534\\n\\nVoir fiche | Visiter le site\\nNotez ce professionnel\\n1\\n2\\n3\\n4\\n5'],\n",
       " ['Barnypok\\nTEL: 23754172474\\n   Afficher le numéro\\nLogo\\nGJcwCbdWdv\\nBP: leHjpVbo,\\nSite Web: http://www.FyLitCl7Pf7ojQdDUOLQOuaxTXbj5iNG.com\\nFax: 43233196534\\n\\nVoir fiche | Visiter le site\\nNotez ce professionnel\\n1\\n2\\n3\\n4\\n5\\nBarnypok\\nTEL: 23754172474\\n   Afficher le numéro\\nLogo\\nGJcwCbdWdv\\nBP: leHjpVbo,\\nSite Web: http://www.FyLitCl7Pf7ojQdDUOLQOuaxTXbj5iNG.com\\nFax: 43233196534\\n\\nVoir fiche | Visiter le site\\nNotez ce professionnel\\n1\\n2\\n3\\n4\\n5'],\n",
       " ['Barnypok\\nTEL: 23754172474\\n   Afficher le numéro\\nLogo\\nGJcwCbdWdv\\nBP: leHjpVbo,\\nSite Web: http://www.FyLitCl7Pf7ojQdDUOLQOuaxTXbj5iNG.com\\nFax: 43233196534\\n\\nVoir fiche | Visiter le site\\nNotez ce professionnel\\n1\\n2\\n3\\n4\\n5\\nBarnypok\\nTEL: 23754172474\\n   Afficher le numéro\\nLogo\\nGJcwCbdWdv\\nBP: leHjpVbo,\\nSite Web: http://www.FyLitCl7Pf7ojQdDUOLQOuaxTXbj5iNG.com\\nFax: 43233196534\\n\\nVoir fiche | Visiter le site\\nNotez ce professionnel\\n1\\n2\\n3\\n4\\n5'],\n",
       " ['Barnypok\\nTEL: 83410128224\\n   Afficher le numéro\\nLogo\\nouzpnKpPxEkqmf\\nBP: ErZXVwMthPWcL,\\nSite Web: http://www.FyLitCl7Pf7ojQdDUOLQOuaxTXbj5iNG.com\\nFax: 22360232382\\n\\nVoir fiche | Visiter le site\\nNotez ce professionnel\\n1\\n2\\n3\\n4\\n5\\nBarnypok\\nTEL: 83410128224\\n   Afficher le numéro\\nLogo\\nouzpnKpPxEkqmf\\nBP: ErZXVwMthPWcL,\\nSite Web: http://www.FyLitCl7Pf7ojQdDUOLQOuaxTXbj5iNG.com\\nFax: 22360232382\\n\\nVoir fiche | Visiter le site\\nNotez ce professionnel\\n1\\n2\\n3\\n4\\n5'],\n",
       " ['Barnypok\\nTEL: 83410128224\\n   Afficher le numéro\\nLogo\\nouzpnKpPxEkqmf\\nBP: ErZXVwMthPWcL,\\nSite Web: http://www.FyLitCl7Pf7ojQdDUOLQOuaxTXbj5iNG.com\\nFax: 22360232382\\n\\nVoir fiche | Visiter le site\\nNotez ce professionnel\\n1\\n2\\n3\\n4\\n5\\nBarnypok\\nTEL: 83410128224\\n   Afficher le numéro\\nLogo\\nouzpnKpPxEkqmf\\nBP: ErZXVwMthPWcL,\\nSite Web: http://www.FyLitCl7Pf7ojQdDUOLQOuaxTXbj5iNG.com\\nFax: 22360232382\\n\\nVoir fiche | Visiter le site\\nNotez ce professionnel\\n1\\n2\\n3\\n4\\n5'],\n",
       " ['CPH WEST AFRICA SARL\\nTEL: 33 827 77 08\\n   Afficher le numéro\\n2 voies Liberté 6 Ext en Face Hopital SAMU municipal\\nBP: 64860 Dakar - FANN,\\nEmail: cphwestafrica@gmail.com\\nSite Web: www.cphwa.com\\n\\nVoir fiche | Visiter le site\\nNotez ce professionnel\\n1\\n2\\n3\\n4\\n5\\nBEPCO SENEGAL\\nTEL: 338203541\\n   Afficher le numéro\\nOuest foire lot 22 aprés samsung ouest foire vers fedrations senegalaise de foot.\\nBP: 99120,\\nEmail: bndbepcosen@live.fr\\nSite Web: https://www.facebook.com/bepco.senegal?fref=ts\\nFax: 338203541\\n\\nVoir fiche | Visiter le site\\nNotez ce professionnel\\n1\\n2\\n3\\n4\\n5'],\n",
       " ['Plateforme de Développement des Entreprises du S\\nTEL: 774897616\\n   Afficher le numéro\\n3, Grand Yoff Taïba 4\\nBP: 13146,\\nEmail: contactplateformepdes@gmail.com\\n\\nVoir fiche | Visiter le site\\nNotez ce professionnel\\n1\\n2\\n3\\n4\\n5\\nPlateforme de Développement des Entreprises du S\\nTEL: 774897616\\n   Afficher le numéro\\n3, Grand Yoff Taïba 4\\nBP: 13146,\\nEmail: contactplateformepdes@gmail.com\\n\\nVoir fiche | Visiter le site\\nNotez ce professionnel\\n1\\n2\\n3\\n4\\n5'],\n",
       " ['Société industrielle de conserves des olives et\\nTEL: 0661178993\\n   Afficher le numéro\\nRue Ibn Benna QI sidi Brhaim BP 2049 30000 Fez - Morocco\\nEmail: sale.sicopa@gmail.Com\\nSite Web: www.sicopa.ma\\nFax: 0535658261\\n\\nVoir fiche | Visiter le site\\nNotez ce professionnel\\n1\\n2\\n3\\n4\\n5\\nAGRIPRO\\nTEL: 338675533 / 783010101\\n   Afficher le numéro\\nLogo\\nOuest Foire Cite port autonome de Dakar\\nEmail: agripro@agriproafrica.com\\nSite Web: www.agriproafrica.com\\n\\nVoir fiche | Visiter le site\\nNotez ce professionnel\\n1\\n2\\n3\\n4\\n5'],\n",
       " ['PRODUMEL SENEGAL SUARL\\nTEL: 338200169\\n   Afficher le numéro\\nLogo\\nyoff aéroport , YOFF, Dakar\\nEmail: produmel.dk@hotmail.fr\\n\\nVoir fiche | Visiter le site\\nNotez ce professionnel\\n1\\n2\\n3\\n4\\n5\\nSOCIETE DES PRODUITS INDUSTRIELLES ET AGRICOLES\\nTEL: 338693269\\n   Afficher le numéro\\nVDN, Ouest Foire, Lot N°3\\nBP: 3806 DAKAR, DAKAR\\nEmail: abdousal@spia-sn.com\\nSite Web: www.spia-sn.com\\nFax: 338201773\\n\\nVoir fiche | Visiter le site\\nNotez ce professionnel\\n1\\n2\\n3\\n4\\n5'],\n",
       " ['G.I.E AMBANTOU\\nTEL: 779855652\\n   Afficher le numéro\\nVILLAGE DE THIOUBALEL LAO DEPARTEMENT DE PODOR COMMUNE DE MAIRY\\nEmail: ambantou@gmail.com\\n\\nVoir fiche | Visiter le site\\nNotez ce professionnel\\n1\\n2\\n3\\n4\\n5\\nDYNAPAHARM INTERNATIONAL\\nTEL: 772547521\\n   Afficher le numéro\\nLogo\\n39 av, Georges pompidou\\nBP: 00110, DAKAR\\nEmail: abndiaye77@yahoo.fr\\nSite Web: www.dynapharminternational.net\\n\\nVoir fiche | Visiter le site\\nNotez ce professionnel\\n1\\n2\\n3\\n4\\n5'],\n",
       " ['FAYE ET SOCCIO\\nTEL: 777648544\\n   Afficher le numéro\\nLogo\\nSILMA TOUBA BAKHDAD ROUTE DE TASSETE THIES\\n\\nVoir fiche | Visiter le site\\nNotez ce professionnel\\n1\\n2\\n3\\n4\\n5\\nISRA(UNIVAL)\\nTEL: 33 832 84 51 / 33 832 84 27\\n   Afficher le numéro\\nLogo\\nRoute de front de terre Hann\\nBP: 3120 Dakar rp, DAKAR\\nEmail: unival@isra.sn\\nSite Web: ww.isra.sn\\n\\nVoir fiche | Visiter le site\\nNotez ce professionnel\\n1\\n2\\n3\\n4\\n5'],\n",
       " ['ENDA PRONAT\\nTEL: 338893400 / 338225565\\n   Afficher le numéro\\nLogo\\n54, Rue Carnot, DAKAR-PLATEAU, Dakar\\nBP: 3370, DAKAR\\nEmail: jeuda@enda.sn\\nSite Web: www.enda.sn/www.endapronat.org\\nFax: 338235157\\n\\nVoir fiche | Visiter le site\\nNotez ce professionnel\\n1\\n2\\n3\\n4\\n5\\nAFRICA SEEDS SA\\nTEL: 338368668\\n   Afficher le numéro\\nLogo\\nroute de Sangalkam keur ndiaye lo\\nEmail: willy.baey@free.fr\\nSite Web: www.passionature.sn\\n\\nVoir fiche | Visiter le site\\nNotez ce professionnel\\n1\\n2\\n3\\n4\\n5'],\n",
       " [\"AGENCE NATIONALE DU PLAN DE RETOUR VERS L'AGRICUL\\nTEL: 338891704\\n   Afficher le numéro\\nLogo\\nImmeuble Sicap 2 Rue Amadou Assane Ndoye x Beranger Ferraud\\nBP: 23455 Dakar Ponty, DAKAR\\nSite Web: www.anreva.org\\nFax: 338428425\\n\\nVoir fiche | Visiter le site\\nNotez ce professionnel\\n1\\n2\\n3\\n4\\n5\\nGREEN SENEGAL\\nTEL: 338257120\\n   Afficher le numéro\\nLogo\\n37 Zone B\\nEmail: greendk@orange.sn\\nSite Web: www.greensenegal.net\\n\\nVoir fiche | Visiter le site\\nNotez ce professionnel\\n1\\n2\\n3\\n4\\n5\"],\n",
       " ['HORTIS SUARL\\nTEL: 338482181\\n   Afficher le numéro\\nLogo\\nScat Urbam\\nEmail: AndreDiouf@yahoo.com\\nSite Web: www.green-senegal.com\\n\\nVoir fiche | Visiter le site\\nNotez ce professionnel\\n1\\n2\\n3\\n4\\n5\\nLES NIAYES SARRAULT\\nTEL: 338228464\\n   Afficher le numéro\\nLogo\\n16 Avenue Hassan 2\\nBP: 2483 Dakar, DAKAR\\nEmail: ns@orange.sn/ ns3@orange.sn\\nFax: 338234267\\n\\nVoir fiche | Visiter le site\\nNotez ce professionnel\\n1\\n2\\n3\\n4\\n5'],\n",
       " ['SENEGAL FRUITERIE DE DEVELOPPEMENT SARL\\nTEL: 338225151\\n   Afficher le numéro\\nLogo\\nAvenue Malick Sy x Autoroute Immeuble CCS\\nEmail: info@sfd.sn\\n\\nVoir fiche | Visiter le site\\nNotez ce professionnel\\n1\\n2\\n3\\n4\\n5\\nTROPICASEM SA\\nTEL: 338592525\\n   Afficher le numéro\\nLogo\\nKm 56 Boulevard du Centenaire de la Commune de Dakar\\nBP: 999 Dakar, RUFISQUE\\nEmail: tropicasem@orange.sn\\nSite Web: www.tropicasem.sn\\nFax: 338320536\\n\\nVoir fiche | Visiter le site\\nNotez ce professionnel\\n1\\n2\\n3\\n4\\n5'],\n",
       " ['VERSEN SA\\nTEL: 338252500\\n   Afficher le numéro\\nLogo\\nSicap Amitie 2 Rue J x C Villa n° 4065-B\\nEmail: versencorrea@yahoo.fr\\nFax: 338252500\\n\\nVoir fiche | Visiter le site\\nNotez ce professionnel\\n1\\n2\\n3\\n4\\n5\\nINSTITUT NATIONAL DE PEDOLOGIE\\nTEL: 338326565\\n   Afficher le numéro\\nLogo\\nRoute des Peres Maristes Dakar\\nBP: 10709 dakar, DAKAR\\nEmail: inp@inp.sn\\nSite Web: www.inp.sn\\nFax: 338328517\\n\\nVoir fiche | Visiter le site\\nNotez ce professionnel\\n1\\n2\\n3\\n4\\n5'],\n",
       " ['IPAR\\nTEL: 338690079\\n   Afficher le numéro\\nLogo\\nNgor NG 32 x 195 Derriere Chez Katia Dakar\\nBP: 16788 dakar fann, DAKAR\\nEmail: ipar@ipar.sn\\nSite Web: www.ipar.sn\\nFax: 338680538\\n\\nVoir fiche | Visiter le site\\nNotez ce professionnel\\n1\\n2\\n3\\n4\\n5\\nSOFIA SOCIETE FINANCIERE ET AGRICOLE\\nTEL: 338697949\\n   Afficher le numéro\\nLogo\\nZone 13 Almadies Yoff Dakar\\nBP: 4522 DAKAR, DAKAR\\nEmail: sofia@sofia.sn\\nFax: 338201161\\n\\nVoir fiche | Visiter le site\\nNotez ce professionnel\\n1\\n2\\n3\\n4\\n5'],\n",
       " ['SODEFITEX\\nTEL: 338897950\\n   Afficher le numéro\\n4,5 Km Boulevard du Centenaire de la Commune de Dakar\\nBP: 3216, PIKINE\\nEmail: dg@sodefitex.sn\\nSite Web: www.sodefitex.sn\\nFax: 338320675\\n\\nVoir fiche | Visiter le site\\nNotez ce professionnel\\n1\\n2\\n3\\n4\\n5\\nSODAGRI\\nTEL: 338210426\\n   Afficher le numéro\\nLogo\\nBoulevard Djily Mbaye X Rue Macodou Ndiaye Immeuble Fahd 9e Etage Dakar\\nBP: 222, DAKAR\\nEmail: sodagri@orange.sn\\nFax: 338225406\\n\\nVoir fiche | Visiter le site\\nNotez ce professionnel\\n1\\n2\\n3\\n4\\n5'],\n",
       " [\"IDEV-IC EX SENEGROSOL CONSULT\\nTEL: 338559590\\n   Afficher le numéro\\nLogo\\nA cote de Nabil Choucair Patte d'oie Builders Dakar\\nBP: 8316 dakar yoff, DAKAR\\nEmail: idev-ic@idev-ic.com\\nSite Web: www.idev-ic.com ou www.idev-ic.sn\\nFax: 338559592\\n\\nVoir fiche | Visiter le site\\nNotez ce professionnel\\n1\\n2\\n3\\n4\\n5\\nFNRAA FOND NATIONAL POUR LA RECHERCHE AGRICOLE ET\\nTEL: 338203510\\n   Afficher le numéro\\nLogo\\nOuest Foire Derriere la Federation Senegalaise de football\\nSite Web: www.fnraa.sn\\nFax: 338203511\\n\\nVoir fiche | Visiter le site\\nNotez ce professionnel\\n1\\n2\\n3\\n4\\n5\"],\n",
       " ['EQUIP PLUS\\nTEL: 338323232\\n   Afficher le numéro\\n3,5 Km Boulevard du Centenaire de la Commune de Dakar\\nBP: 314, DAKAR\\nEmail: equiplus@equiplus.sn\\nSite Web: www.equiplus.sn\\nFax: 338320387\\n\\nVoir fiche | Visiter le site\\nNotez ce professionnel\\n1\\n2\\n3\\n4\\n5\\nCONFÉRENCE DES RESPONSABLES DE RECHERCHE AGRICOL\\nTEL: 338203510\\n   Afficher le numéro\\nLogo\\n, Avenue Bourguiba, Grand-Yoff, GRAND YOFF, DAKAR\\nBP: 338237, DAKAR\\nEmail: caction@sonatel.senet.sn\\nSite Web: www.coraf.org\\nFax: 338203511\\n\\nVoir fiche | Visiter le site\\nNotez ce professionnel\\n1\\n2\\n3\\n4\\n5'],\n",
       " ['TRAGSA GRUPO\\nTEL: 338216111\\n   Afficher le numéro\\nLogo\\n19 boulevard roosevelt 2eme etage, DAKAR-PLATEAU, Dakar\\nSite Web: www.tragsa.se\\nFax: 338216111\\n\\nVoir fiche | Visiter le site\\nNotez ce professionnel\\n1\\n2\\n3\\n4\\n5\\nSKY-BAT SARL\\nTEL: 33 820 84 20\\n   Afficher le numéro\\nLot n°333 Foire près de la gendarmerie\\nEmail: info@skybat.sn\\nSite Web: www.skybat.sn\\nFax: 33 820 84 14\\n\\nVoir fiche | Visiter le site\\nNotez ce professionnel\\n1\\n2\\n3\\n4\\n5'],\n",
       " ['TERRAGRISEN\\nTEL: 338278811\\n   Afficher le numéro\\nLogo\\nSacrÃ© Coeur 3 VDN Dakar\\nBP: 24908 Poste de Ouakam, NULL\\nEmail: terragrisensuarl@gmail.com\\nSite Web: www.ics-agri.com\\n\\nVoir fiche | Visiter le site\\nNotez ce professionnel\\n1\\n2\\n3\\n4\\n5\\nSSCL-SUARL ( Societe Senegalaise de Culture Legum\\nTEL: 77 819 3275 / 77 744 9126\\n   Afficher le numéro\\nLogo\\nCite Sipres Mourtada Villa No.1 Ouest Foire Dakar-Senegal\\nEmail: ssclagrobusiness@gmail.com\\nFax: 33 820 9798\\n\\nVoir fiche | Visiter le site\\nNotez ce professionnel\\n1\\n2\\n3\\n4\\n5'],\n",
       " ['TUNISIA EXPORT DATES & AGRO\\nTEL: +21655718737\\n   Afficher le numéro\\nTunisie\\nEmail: momed.Abdellatif@gmail.com\\n\\nVoir fiche | Visiter le site\\nNotez ce professionnel\\n1\\n2\\n3\\n4\\n5\\nBepco tracteur pièces senegal\\nTEL: 332803541\\n   Afficher le numéro\\nlot 22 ouest Foire en face foire coté samsung et cbao\\nEmail: bndbepcosen@live.fr\\nSite Web: http://www.bepcoparts.com/index_fr.php\\nFax: 338203989\\n\\nVoir fiche | Visiter le site\\nNotez ce professionnel\\n1\\n2\\n3\\n4\\n5'],\n",
       " ['bepco agriculture\\nTEL: 339616777 ou 776662646\\n   Afficher le numéro\\nN° 193 Rue Djibril Dia Ndioloféne Sor Saint Louis\\nEmail: tsafrique@hotmail.com\\nSite Web: https://www.facebook.com/Bepco-Senegal-agriculture-357175621073092/?fref=ts\\nFax: 339616777\\n\\nVoir fiche | Visiter le site\\nNotez ce professionnel\\n1\\n2\\n3\\n4\\n5\\nBepco tracteur pièces senegal\\nTEL: 338203541\\n   Afficher le numéro\\nlot 22 ouest Foire en face foire coté samsung et cbao\\nEmail: bndbepcosen@live.fr\\nSite Web: http://www.bepcoparts.com/index_fr.php\\nFax: 338203889\\n\\nVoir fiche | Visiter le site\\nNotez ce professionnel\\n1\\n2\\n3\\n4\\n5'],\n",
       " [\"Société pour le Développement e l'Agriculture\\nTEL: (+221) 33 864 17 00\\n   Afficher le numéro\\n99 Cité Keur Khadim2\\nBP: 10675,\\nEmail: amadoubasodais@hotmail.com\\nFax: (+221) 33 864 17 00\\n\\nVoir fiche | Visiter le site\\nNotez ce professionnel\\n1\\n2\\n3\\n4\\n5\\nTEL: 338203541\\n   Afficher le numéro\\nLogo\\n\\nFax: 338203889\\n\\nVoir fiche | Visiter le site\\nNotez ce professionnel\\n1\\n2\\n3\\n4\\n5\"]]"
      ]
     },
     "execution_count": 227,
     "metadata": {},
     "output_type": "execute_result"
    }
   ],
   "source": [
    "all_infos"
   ]
  },
  {
   "cell_type": "code",
   "execution_count": 228,
   "metadata": {},
   "outputs": [
    {
     "data": {
      "text/plain": [
       "34"
      ]
     },
     "execution_count": 228,
     "metadata": {},
     "output_type": "execute_result"
    }
   ],
   "source": [
    "len(all_infos)\n",
    "        "
   ]
  },
  {
   "cell_type": "code",
   "execution_count": 211,
   "metadata": {
    "collapsed": true
   },
   "outputs": [],
   "source": [
    "all_infos.remove(['Accueil > Résultats de recherche'])"
   ]
  },
  {
   "cell_type": "code",
   "execution_count": 212,
   "metadata": {},
   "outputs": [
    {
     "data": {
      "text/plain": [
       "[['CARRE VERT\\nTEL: 338225771\\n   Afficher le numéro\\n15, Rue Robert Brun, Dakar\\nBP: 2114, DAKAR\\nEmail: carrevertp@orange.sn\\n\\nVoir fiche | Présentation\\nNotez ce professionnel\\n1\\n2\\n3\\n4\\n5\\nETS TRAORE ET FILS\\nTEL: 338344172\\n   Afficher le numéro\\nKm 13, Route de Rufisque, Thiaroye\\nBP: 20151 Thiaroye, THIAROYE\\nEmail: rokhaya.traore@yahoo.fr\\nSite Web: www.etstraoretfils.com\\nFax: 338349907\\n\\nVoir fiche | Présentation\\nNotez ce professionnel\\n1\\n2\\n3\\n4\\n5'],\n",
       " ['SOUBAS INTERNATIONAL\\nTEL: 338243410\\n   Afficher le numéro\\nRond Point Liberté 5, Sacré Coeur, Immeuble Adja Coura N° 5426\\nEmail: contact@soubas.com / constructions@soubas.com\\nSite Web: www.soubas.com\\nFax: 338256244\\n\\nVoir fiche | Présentation\\nNotez ce professionnel\\n1\\n2\\n3\\n4\\n5\\nAssociation Nationale de Solidarité (KAARING)\\nTEL: 221 77 876 93 87\\n   Afficher le numéro\\nParcelles Assainies, Unité 05 Villa N° 076\\nEmail: germainficou34@gmail.com\\n\\nVoir fiche | Visiter le site\\nNotez ce professionnel\\n1\\n2\\n3\\n4\\n5'],\n",
       " ['CPH WEST AFRICA SARL\\nTEL: 33 827 77 08\\n   Afficher le numéro\\n2 voies Liberté 6 Ext en Face Hopital SAMU municipal\\nBP: 64860 Dakar - FANN,\\nEmail: cphwestafrica@gmail.com\\nSite Web: www.cphwa.com\\n\\nVoir fiche | Visiter le site\\nNotez ce professionnel\\n1\\n2\\n3\\n4\\n5\\nSika Technologie\\nTEL: +221 774406367\\n   Afficher le numéro\\nCité keur gorgui lot n2\\nEmail: sika.contacts@gmail.com\\nSite Web: www.sikatechnologie.com\\n\\nVoir fiche | Visiter le site\\nNotez ce professionnel\\n1\\n2\\n3\\n4\\n5'],\n",
       " ['BEPCO SENEGAL\\nTEL: 338203541\\n   Afficher le numéro\\nOuest foire lot 22 aprés samsung ouest foire vers fedrations senegalaise de foot.\\nBP: 99120,\\nEmail: bndbepcosen@live.fr\\nSite Web: https://www.facebook.com/bepco.senegal?fref=ts\\nFax: 338203541\\n\\nVoir fiche | Visiter le site\\nNotez ce professionnel\\n1\\n2\\n3\\n4\\n5\\nAGRIPRO\\nTEL: 338675533 / 783010101\\n   Afficher le numéro\\nLogo\\nOuest Foire Cite port autonome de Dakar\\nEmail: agripro@agriproafrica.com\\nSite Web: www.agriproafrica.com\\n\\nVoir fiche | Visiter le site\\nNotez ce professionnel\\n1\\n2\\n3\\n4\\n5'],\n",
       " ['PRODUMEL SENEGAL SUARL\\nTEL: 338200169\\n   Afficher le numéro\\nLogo\\nyoff aéroport , YOFF, Dakar\\nEmail: produmel.dk@hotmail.fr\\n\\nVoir fiche | Visiter le site\\nNotez ce professionnel\\n1\\n2\\n3\\n4\\n5\\nAFRIK BUSINESS DIFFUSION\\nTEL: 338652414\\n   Afficher le numéro\\nLogo\\nOuest foire, cité Bourgi\\nEmail: infos@afrikbusinessdiffusion.com\\nSite Web: www.afrikbusinessdiffusion.com\\n\\nVoir fiche | Visiter le site\\nNotez ce professionnel\\n1\\n2\\n3\\n4\\n5'],\n",
       " ['Accueil > Résultats de recherche'],\n",
       " ['ChoisirLeSénégal\\nTEL: 777303095\\n   Afficher le numéro\\nZone A villa 68/B\\nEmail: papifay@gmail.com\\nSite Web: www.choisirlesenegal.com\\n\\nVoir fiche | Visiter le site\\nNotez ce professionnel\\n1\\n2\\n3\\n4\\n5\\nChoisirLeSénégal\\nTEL: 777303095\\n   Afficher le numéro\\nZone A villa 68/B\\nEmail: papifay@gmail.com\\nSite Web: www.choisirlesenegal.com\\n\\nVoir fiche | Visiter le site\\nNotez ce professionnel\\n1\\n2\\n3\\n4\\n5'],\n",
       " ['ChoisirLeSénégal\\nTEL: 777303095\\n   Afficher le numéro\\nZone A villa 68/B\\nEmail: papifay@gmail.com\\nSite Web: www.choisirlesenegal.com\\n\\nVoir fiche | Visiter le site\\nNotez ce professionnel\\n1\\n2\\n3\\n4\\n5\\nChoisirLeSénégal\\nTEL: 777303095\\n   Afficher le numéro\\nZone A villa 68/B\\nEmail: papifay@gmail.com\\nSite Web: www.choisirlesenegal.com\\n\\nVoir fiche | Visiter le site\\nNotez ce professionnel\\n1\\n2\\n3\\n4\\n5'],\n",
       " ['ChoisirLeSénégal\\nTEL: 777303095\\n   Afficher le numéro\\nZone A villa 68/B\\nEmail: papifay@gmail.com\\nSite Web: www.choisirlesenegal.com\\n\\nVoir fiche | Visiter le site\\nNotez ce professionnel\\n1\\n2\\n3\\n4\\n5\\nChoisirLeSénégal\\nTEL: 777303095\\n   Afficher le numéro\\nZone A villa 68/B\\nEmail: papifay@gmail.com\\nSite Web: www.choisirlesenegal.com\\n\\nVoir fiche | Visiter le site\\nNotez ce professionnel\\n1\\n2\\n3\\n4\\n5'],\n",
       " ['JimmiXzSw\\nTEL: 40406371639\\n   Afficher le numéro\\nLogo\\nceUeEPslWUnZsEECSV\\nBP: mySlImykpmzVgk,\\nSite Web: http://www.FyLitCl7Pf7ojQdDUOLQOuaxTXbj5iNG.com\\nFax: 40252450370\\n\\nVoir fiche | Visiter le site\\nNotez ce professionnel\\n1\\n2\\n3\\n4\\n5\\nJimmiXzSw\\nTEL: 40406371639\\n   Afficher le numéro\\nLogo\\nceUeEPslWUnZsEECSV\\nBP: mySlImykpmzVgk,\\nSite Web: http://www.FyLitCl7Pf7ojQdDUOLQOuaxTXbj5iNG.com\\nFax: 40252450370\\n\\nVoir fiche | Visiter le site\\nNotez ce professionnel\\n1\\n2\\n3\\n4\\n5'],\n",
       " ['JimmiXzSw\\nTEL: 40406371639\\n   Afficher le numéro\\nLogo\\nceUeEPslWUnZsEECSV\\nBP: mySlImykpmzVgk,\\nSite Web: http://www.FyLitCl7Pf7ojQdDUOLQOuaxTXbj5iNG.com\\nFax: 40252450370\\n\\nVoir fiche | Visiter le site\\nNotez ce professionnel\\n1\\n2\\n3\\n4\\n5\\nJimmiXzSw\\nTEL: 40406371639\\n   Afficher le numéro\\nLogo\\nceUeEPslWUnZsEECSV\\nBP: mySlImykpmzVgk,\\nSite Web: http://www.FyLitCl7Pf7ojQdDUOLQOuaxTXbj5iNG.com\\nFax: 40252450370\\n\\nVoir fiche | Visiter le site\\nNotez ce professionnel\\n1\\n2\\n3\\n4\\n5'],\n",
       " ['Accueil > Résultats de recherche'],\n",
       " ['AgroTechnikAfrica-Senegal\\nTEL: 338347167\\n   Afficher le numéro\\nEntrée Pikine face Eglise Notre Dame du Cap Vert\\nBP: 18155 DKR,\\nEmail: atasenegal2016@gmail.com\\nFax: 338347167\\n\\nVoir fiche | Visiter le site\\nNotez ce professionnel\\n1\\n2\\n3\\n4\\n5\\nAgroTechnikAfrica-Senegal\\nTEL: 338347167\\n   Afficher le numéro\\nEntrée Pikine face Eglise Notre Dame du Cap Vert\\nBP: 18155 DKR,\\nEmail: atasenegal2016@gmail.com\\nFax: 338347167\\n\\nVoir fiche | Visiter le site\\nNotez ce professionnel\\n1\\n2\\n3\\n4\\n5'],\n",
       " ['Terroir Food Sénégal\\nTEL: 338641281\\n   Afficher le numéro\\nOuagou Niayes 2\\nEmail: terroirfoodsenegal@gmail.com\\nSite Web: www.terroirfoodsenegal.com\\n\\nVoir fiche | Visiter le site\\nNotez ce professionnel\\n1\\n2\\n3\\n4\\n5\\nBarnypok\\nTEL: 61137414100\\n   Afficher le numéro\\nLogo\\nVbQNwNWPedgqyVUxqCH\\nBP: VYibOfvaucycgBP,\\nSite Web: http://www.FyLitCl7Pf7ojQdDUOLQOuaxTXbj5iNG.com\\nFax: 81568182027\\n\\nVoir fiche | Visiter le site\\nNotez ce professionnel\\n1\\n2\\n3\\n4\\n5'],\n",
       " ['Barnypok\\nTEL: 61137414100\\n   Afficher le numéro\\nLogo\\nVbQNwNWPedgqyVUxqCH\\nBP: VYibOfvaucycgBP,\\nSite Web: http://www.FyLitCl7Pf7ojQdDUOLQOuaxTXbj5iNG.com\\nFax: 81568182027\\n\\nVoir fiche | Visiter le site\\nNotez ce professionnel\\n1\\n2\\n3\\n4\\n5\\nBarnypok\\nTEL: 61137414100\\n   Afficher le numéro\\nLogo\\nVbQNwNWPedgqyVUxqCH\\nBP: VYibOfvaucycgBP,\\nSite Web: http://www.FyLitCl7Pf7ojQdDUOLQOuaxTXbj5iNG.com\\nFax: 81568182027\\n\\nVoir fiche | Visiter le site\\nNotez ce professionnel\\n1\\n2\\n3\\n4\\n5'],\n",
       " ['Barnypok\\nTEL: 61137414100\\n   Afficher le numéro\\nLogo\\nVbQNwNWPedgqyVUxqCH\\nBP: VYibOfvaucycgBP,\\nSite Web: http://www.FyLitCl7Pf7ojQdDUOLQOuaxTXbj5iNG.com\\nFax: 81568182027\\n\\nVoir fiche | Visiter le site\\nNotez ce professionnel\\n1\\n2\\n3\\n4\\n5\\nBarnypok\\nTEL: 23754172474\\n   Afficher le numéro\\nLogo\\nGJcwCbdWdv\\nBP: leHjpVbo,\\nSite Web: http://www.FyLitCl7Pf7ojQdDUOLQOuaxTXbj5iNG.com\\nFax: 43233196534\\n\\nVoir fiche | Visiter le site\\nNotez ce professionnel\\n1\\n2\\n3\\n4\\n5'],\n",
       " ['Barnypok\\nTEL: 23754172474\\n   Afficher le numéro\\nLogo\\nGJcwCbdWdv\\nBP: leHjpVbo,\\nSite Web: http://www.FyLitCl7Pf7ojQdDUOLQOuaxTXbj5iNG.com\\nFax: 43233196534\\n\\nVoir fiche | Visiter le site\\nNotez ce professionnel\\n1\\n2\\n3\\n4\\n5\\nBarnypok\\nTEL: 23754172474\\n   Afficher le numéro\\nLogo\\nGJcwCbdWdv\\nBP: leHjpVbo,\\nSite Web: http://www.FyLitCl7Pf7ojQdDUOLQOuaxTXbj5iNG.com\\nFax: 43233196534\\n\\nVoir fiche | Visiter le site\\nNotez ce professionnel\\n1\\n2\\n3\\n4\\n5'],\n",
       " ['Accueil > Résultats de recherche'],\n",
       " ['Barnypok\\nTEL: 23754172474\\n   Afficher le numéro\\nLogo\\nGJcwCbdWdv\\nBP: leHjpVbo,\\nSite Web: http://www.FyLitCl7Pf7ojQdDUOLQOuaxTXbj5iNG.com\\nFax: 43233196534\\n\\nVoir fiche | Visiter le site\\nNotez ce professionnel\\n1\\n2\\n3\\n4\\n5\\nBarnypok\\nTEL: 23754172474\\n   Afficher le numéro\\nLogo\\nGJcwCbdWdv\\nBP: leHjpVbo,\\nSite Web: http://www.FyLitCl7Pf7ojQdDUOLQOuaxTXbj5iNG.com\\nFax: 43233196534\\n\\nVoir fiche | Visiter le site\\nNotez ce professionnel\\n1\\n2\\n3\\n4\\n5'],\n",
       " ['Barnypok\\nTEL: 83410128224\\n   Afficher le numéro\\nLogo\\nouzpnKpPxEkqmf\\nBP: ErZXVwMthPWcL,\\nSite Web: http://www.FyLitCl7Pf7ojQdDUOLQOuaxTXbj5iNG.com\\nFax: 22360232382\\n\\nVoir fiche | Visiter le site\\nNotez ce professionnel\\n1\\n2\\n3\\n4\\n5\\nBarnypok\\nTEL: 83410128224\\n   Afficher le numéro\\nLogo\\nouzpnKpPxEkqmf\\nBP: ErZXVwMthPWcL,\\nSite Web: http://www.FyLitCl7Pf7ojQdDUOLQOuaxTXbj5iNG.com\\nFax: 22360232382\\n\\nVoir fiche | Visiter le site\\nNotez ce professionnel\\n1\\n2\\n3\\n4\\n5'],\n",
       " ['Barnypok\\nTEL: 83410128224\\n   Afficher le numéro\\nLogo\\nouzpnKpPxEkqmf\\nBP: ErZXVwMthPWcL,\\nSite Web: http://www.FyLitCl7Pf7ojQdDUOLQOuaxTXbj5iNG.com\\nFax: 22360232382\\n\\nVoir fiche | Visiter le site\\nNotez ce professionnel\\n1\\n2\\n3\\n4\\n5\\nBarnypok\\nTEL: 83410128224\\n   Afficher le numéro\\nLogo\\nouzpnKpPxEkqmf\\nBP: ErZXVwMthPWcL,\\nSite Web: http://www.FyLitCl7Pf7ojQdDUOLQOuaxTXbj5iNG.com\\nFax: 22360232382\\n\\nVoir fiche | Visiter le site\\nNotez ce professionnel\\n1\\n2\\n3\\n4\\n5'],\n",
       " ['CPH WEST AFRICA SARL\\nTEL: 33 827 77 08\\n   Afficher le numéro\\n2 voies Liberté 6 Ext en Face Hopital SAMU municipal\\nBP: 64860 Dakar - FANN,\\nEmail: cphwestafrica@gmail.com\\nSite Web: www.cphwa.com\\n\\nVoir fiche | Visiter le site\\nNotez ce professionnel\\n1\\n2\\n3\\n4\\n5\\nBEPCO SENEGAL\\nTEL: 338203541\\n   Afficher le numéro\\nOuest foire lot 22 aprés samsung ouest foire vers fedrations senegalaise de foot.\\nBP: 99120,\\nEmail: bndbepcosen@live.fr\\nSite Web: https://www.facebook.com/bepco.senegal?fref=ts\\nFax: 338203541\\n\\nVoir fiche | Visiter le site\\nNotez ce professionnel\\n1\\n2\\n3\\n4\\n5'],\n",
       " ['Plateforme de Développement des Entreprises du S\\nTEL: 774897616\\n   Afficher le numéro\\n3, Grand Yoff Taïba 4\\nBP: 13146,\\nEmail: contactplateformepdes@gmail.com\\n\\nVoir fiche | Visiter le site\\nNotez ce professionnel\\n1\\n2\\n3\\n4\\n5\\nPlateforme de Développement des Entreprises du S\\nTEL: 774897616\\n   Afficher le numéro\\n3, Grand Yoff Taïba 4\\nBP: 13146,\\nEmail: contactplateformepdes@gmail.com\\n\\nVoir fiche | Visiter le site\\nNotez ce professionnel\\n1\\n2\\n3\\n4\\n5'],\n",
       " ['Accueil > Résultats de recherche'],\n",
       " ['Société industrielle de conserves des olives et\\nTEL: 0661178993\\n   Afficher le numéro\\nRue Ibn Benna QI sidi Brhaim BP 2049 30000 Fez - Morocco\\nEmail: sale.sicopa@gmail.Com\\nSite Web: www.sicopa.ma\\nFax: 0535658261\\n\\nVoir fiche | Visiter le site\\nNotez ce professionnel\\n1\\n2\\n3\\n4\\n5\\nAGRIPRO\\nTEL: 338675533 / 783010101\\n   Afficher le numéro\\nLogo\\nOuest Foire Cite port autonome de Dakar\\nEmail: agripro@agriproafrica.com\\nSite Web: www.agriproafrica.com\\n\\nVoir fiche | Visiter le site\\nNotez ce professionnel\\n1\\n2\\n3\\n4\\n5'],\n",
       " ['PRODUMEL SENEGAL SUARL\\nTEL: 338200169\\n   Afficher le numéro\\nLogo\\nyoff aéroport , YOFF, Dakar\\nEmail: produmel.dk@hotmail.fr\\n\\nVoir fiche | Visiter le site\\nNotez ce professionnel\\n1\\n2\\n3\\n4\\n5\\nSOCIETE DES PRODUITS INDUSTRIELLES ET AGRICOLES\\nTEL: 338693269\\n   Afficher le numéro\\nVDN, Ouest Foire, Lot N°3\\nBP: 3806 DAKAR, DAKAR\\nEmail: abdousal@spia-sn.com\\nSite Web: www.spia-sn.com\\nFax: 338201773\\n\\nVoir fiche | Visiter le site\\nNotez ce professionnel\\n1\\n2\\n3\\n4\\n5'],\n",
       " ['G.I.E AMBANTOU\\nTEL: 779855652\\n   Afficher le numéro\\nVILLAGE DE THIOUBALEL LAO DEPARTEMENT DE PODOR COMMUNE DE MAIRY\\nEmail: ambantou@gmail.com\\n\\nVoir fiche | Visiter le site\\nNotez ce professionnel\\n1\\n2\\n3\\n4\\n5\\nDYNAPAHARM INTERNATIONAL\\nTEL: 772547521\\n   Afficher le numéro\\nLogo\\n39 av, Georges pompidou\\nBP: 00110, DAKAR\\nEmail: abndiaye77@yahoo.fr\\nSite Web: www.dynapharminternational.net\\n\\nVoir fiche | Visiter le site\\nNotez ce professionnel\\n1\\n2\\n3\\n4\\n5'],\n",
       " ['FAYE ET SOCCIO\\nTEL: 777648544\\n   Afficher le numéro\\nLogo\\nSILMA TOUBA BAKHDAD ROUTE DE TASSETE THIES\\n\\nVoir fiche | Visiter le site\\nNotez ce professionnel\\n1\\n2\\n3\\n4\\n5\\nISRA(UNIVAL)\\nTEL: 33 832 84 51 / 33 832 84 27\\n   Afficher le numéro\\nLogo\\nRoute de front de terre Hann\\nBP: 3120 Dakar rp, DAKAR\\nEmail: unival@isra.sn\\nSite Web: ww.isra.sn\\n\\nVoir fiche | Visiter le site\\nNotez ce professionnel\\n1\\n2\\n3\\n4\\n5'],\n",
       " ['ENDA PRONAT\\nTEL: 338893400 / 338225565\\n   Afficher le numéro\\nLogo\\n54, Rue Carnot, DAKAR-PLATEAU, Dakar\\nBP: 3370, DAKAR\\nEmail: jeuda@enda.sn\\nSite Web: www.enda.sn/www.endapronat.org\\nFax: 338235157\\n\\nVoir fiche | Visiter le site\\nNotez ce professionnel\\n1\\n2\\n3\\n4\\n5\\nAFRICA SEEDS SA\\nTEL: 338368668\\n   Afficher le numéro\\nLogo\\nroute de Sangalkam keur ndiaye lo\\nEmail: willy.baey@free.fr\\nSite Web: www.passionature.sn\\n\\nVoir fiche | Visiter le site\\nNotez ce professionnel\\n1\\n2\\n3\\n4\\n5'],\n",
       " ['Accueil > Résultats de recherche'],\n",
       " [\"AGENCE NATIONALE DU PLAN DE RETOUR VERS L'AGRICUL\\nTEL: 338891704\\n   Afficher le numéro\\nLogo\\nImmeuble Sicap 2 Rue Amadou Assane Ndoye x Beranger Ferraud\\nBP: 23455 Dakar Ponty, DAKAR\\nSite Web: www.anreva.org\\nFax: 338428425\\n\\nVoir fiche | Visiter le site\\nNotez ce professionnel\\n1\\n2\\n3\\n4\\n5\\nGREEN SENEGAL\\nTEL: 338257120\\n   Afficher le numéro\\nLogo\\n37 Zone B\\nEmail: greendk@orange.sn\\nSite Web: www.greensenegal.net\\n\\nVoir fiche | Visiter le site\\nNotez ce professionnel\\n1\\n2\\n3\\n4\\n5\"],\n",
       " ['HORTIS SUARL\\nTEL: 338482181\\n   Afficher le numéro\\nLogo\\nScat Urbam\\nEmail: AndreDiouf@yahoo.com\\nSite Web: www.green-senegal.com\\n\\nVoir fiche | Visiter le site\\nNotez ce professionnel\\n1\\n2\\n3\\n4\\n5\\nLES NIAYES SARRAULT\\nTEL: 338228464\\n   Afficher le numéro\\nLogo\\n16 Avenue Hassan 2\\nBP: 2483 Dakar, DAKAR\\nEmail: ns@orange.sn/ ns3@orange.sn\\nFax: 338234267\\n\\nVoir fiche | Visiter le site\\nNotez ce professionnel\\n1\\n2\\n3\\n4\\n5'],\n",
       " ['SENEGAL FRUITERIE DE DEVELOPPEMENT SARL\\nTEL: 338225151\\n   Afficher le numéro\\nLogo\\nAvenue Malick Sy x Autoroute Immeuble CCS\\nEmail: info@sfd.sn\\n\\nVoir fiche | Visiter le site\\nNotez ce professionnel\\n1\\n2\\n3\\n4\\n5\\nTROPICASEM SA\\nTEL: 338592525\\n   Afficher le numéro\\nLogo\\nKm 56 Boulevard du Centenaire de la Commune de Dakar\\nBP: 999 Dakar, RUFISQUE\\nEmail: tropicasem@orange.sn\\nSite Web: www.tropicasem.sn\\nFax: 338320536\\n\\nVoir fiche | Visiter le site\\nNotez ce professionnel\\n1\\n2\\n3\\n4\\n5'],\n",
       " ['VERSEN SA\\nTEL: 338252500\\n   Afficher le numéro\\nLogo\\nSicap Amitie 2 Rue J x C Villa n° 4065-B\\nEmail: versencorrea@yahoo.fr\\nFax: 338252500\\n\\nVoir fiche | Visiter le site\\nNotez ce professionnel\\n1\\n2\\n3\\n4\\n5\\nINSTITUT NATIONAL DE PEDOLOGIE\\nTEL: 338326565\\n   Afficher le numéro\\nLogo\\nRoute des Peres Maristes Dakar\\nBP: 10709 dakar, DAKAR\\nEmail: inp@inp.sn\\nSite Web: www.inp.sn\\nFax: 338328517\\n\\nVoir fiche | Visiter le site\\nNotez ce professionnel\\n1\\n2\\n3\\n4\\n5'],\n",
       " ['IPAR\\nTEL: 338690079\\n   Afficher le numéro\\nLogo\\nNgor NG 32 x 195 Derriere Chez Katia Dakar\\nBP: 16788 dakar fann, DAKAR\\nEmail: ipar@ipar.sn\\nSite Web: www.ipar.sn\\nFax: 338680538\\n\\nVoir fiche | Visiter le site\\nNotez ce professionnel\\n1\\n2\\n3\\n4\\n5\\nSOFIA SOCIETE FINANCIERE ET AGRICOLE\\nTEL: 338697949\\n   Afficher le numéro\\nLogo\\nZone 13 Almadies Yoff Dakar\\nBP: 4522 DAKAR, DAKAR\\nEmail: sofia@sofia.sn\\nFax: 338201161\\n\\nVoir fiche | Visiter le site\\nNotez ce professionnel\\n1\\n2\\n3\\n4\\n5'],\n",
       " ['Accueil > Résultats de recherche'],\n",
       " ['SODEFITEX\\nTEL: 338897950\\n   Afficher le numéro\\n4,5 Km Boulevard du Centenaire de la Commune de Dakar\\nBP: 3216, PIKINE\\nEmail: dg@sodefitex.sn\\nSite Web: www.sodefitex.sn\\nFax: 338320675\\n\\nVoir fiche | Visiter le site\\nNotez ce professionnel\\n1\\n2\\n3\\n4\\n5\\nSODAGRI\\nTEL: 338210426\\n   Afficher le numéro\\nLogo\\nBoulevard Djily Mbaye X Rue Macodou Ndiaye Immeuble Fahd 9e Etage Dakar\\nBP: 222, DAKAR\\nEmail: sodagri@orange.sn\\nFax: 338225406\\n\\nVoir fiche | Visiter le site\\nNotez ce professionnel\\n1\\n2\\n3\\n4\\n5'],\n",
       " [\"IDEV-IC EX SENEGROSOL CONSULT\\nTEL: 338559590\\n   Afficher le numéro\\nLogo\\nA cote de Nabil Choucair Patte d'oie Builders Dakar\\nBP: 8316 dakar yoff, DAKAR\\nEmail: idev-ic@idev-ic.com\\nSite Web: www.idev-ic.com ou www.idev-ic.sn\\nFax: 338559592\\n\\nVoir fiche | Visiter le site\\nNotez ce professionnel\\n1\\n2\\n3\\n4\\n5\\nFNRAA FOND NATIONAL POUR LA RECHERCHE AGRICOLE ET\\nTEL: 338203510\\n   Afficher le numéro\\nLogo\\nOuest Foire Derriere la Federation Senegalaise de football\\nSite Web: www.fnraa.sn\\nFax: 338203511\\n\\nVoir fiche | Visiter le site\\nNotez ce professionnel\\n1\\n2\\n3\\n4\\n5\"],\n",
       " ['EQUIP PLUS\\nTEL: 338323232\\n   Afficher le numéro\\n3,5 Km Boulevard du Centenaire de la Commune de Dakar\\nBP: 314, DAKAR\\nEmail: equiplus@equiplus.sn\\nSite Web: www.equiplus.sn\\nFax: 338320387\\n\\nVoir fiche | Visiter le site\\nNotez ce professionnel\\n1\\n2\\n3\\n4\\n5\\nCONFÉRENCE DES RESPONSABLES DE RECHERCHE AGRICOL\\nTEL: 338203510\\n   Afficher le numéro\\nLogo\\n, Avenue Bourguiba, Grand-Yoff, GRAND YOFF, DAKAR\\nBP: 338237, DAKAR\\nEmail: caction@sonatel.senet.sn\\nSite Web: www.coraf.org\\nFax: 338203511\\n\\nVoir fiche | Visiter le site\\nNotez ce professionnel\\n1\\n2\\n3\\n4\\n5'],\n",
       " ['TRAGSA GRUPO\\nTEL: 338216111\\n   Afficher le numéro\\nLogo\\n19 boulevard roosevelt 2eme etage, DAKAR-PLATEAU, Dakar\\nSite Web: www.tragsa.se\\nFax: 338216111\\n\\nVoir fiche | Visiter le site\\nNotez ce professionnel\\n1\\n2\\n3\\n4\\n5\\nSKY-BAT SARL\\nTEL: 33 820 84 20\\n   Afficher le numéro\\nLot n°333 Foire près de la gendarmerie\\nEmail: info@skybat.sn\\nSite Web: www.skybat.sn\\nFax: 33 820 84 14\\n\\nVoir fiche | Visiter le site\\nNotez ce professionnel\\n1\\n2\\n3\\n4\\n5'],\n",
       " ['TERRAGRISEN\\nTEL: 338278811\\n   Afficher le numéro\\nLogo\\nSacrÃ© Coeur 3 VDN Dakar\\nBP: 24908 Poste de Ouakam, NULL\\nEmail: terragrisensuarl@gmail.com\\nSite Web: www.ics-agri.com\\n\\nVoir fiche | Visiter le site\\nNotez ce professionnel\\n1\\n2\\n3\\n4\\n5\\nSSCL-SUARL ( Societe Senegalaise de Culture Legum\\nTEL: 77 819 3275 / 77 744 9126\\n   Afficher le numéro\\nLogo\\nCite Sipres Mourtada Villa No.1 Ouest Foire Dakar-Senegal\\nEmail: ssclagrobusiness@gmail.com\\nFax: 33 820 9798\\n\\nVoir fiche | Visiter le site\\nNotez ce professionnel\\n1\\n2\\n3\\n4\\n5'],\n",
       " ['Accueil > Résultats de recherche'],\n",
       " ['TUNISIA EXPORT DATES & AGRO\\nTEL: +21655718737\\n   Afficher le numéro\\nTunisie\\nEmail: momed.Abdellatif@gmail.com\\n\\nVoir fiche | Visiter le site\\nNotez ce professionnel\\n1\\n2\\n3\\n4\\n5\\nBepco tracteur pièces senegal\\nTEL: 332803541\\n   Afficher le numéro\\nlot 22 ouest Foire en face foire coté samsung et cbao\\nEmail: bndbepcosen@live.fr\\nSite Web: http://www.bepcoparts.com/index_fr.php\\nFax: 338203989\\n\\nVoir fiche | Visiter le site\\nNotez ce professionnel\\n1\\n2\\n3\\n4\\n5'],\n",
       " ['bepco agriculture\\nTEL: 339616777 ou 776662646\\n   Afficher le numéro\\nN° 193 Rue Djibril Dia Ndioloféne Sor Saint Louis\\nEmail: tsafrique@hotmail.com\\nSite Web: https://www.facebook.com/Bepco-Senegal-agriculture-357175621073092/?fref=ts\\nFax: 339616777\\n\\nVoir fiche | Visiter le site\\nNotez ce professionnel\\n1\\n2\\n3\\n4\\n5\\nBepco tracteur pièces senegal\\nTEL: 338203541\\n   Afficher le numéro\\nlot 22 ouest Foire en face foire coté samsung et cbao\\nEmail: bndbepcosen@live.fr\\nSite Web: http://www.bepcoparts.com/index_fr.php\\nFax: 338203889\\n\\nVoir fiche | Visiter le site\\nNotez ce professionnel\\n1\\n2\\n3\\n4\\n5'],\n",
       " [\"Société pour le Développement e l'Agriculture\\nTEL: (+221) 33 864 17 00\\n   Afficher le numéro\\n99 Cité Keur Khadim2\\nBP: 10675,\\nEmail: amadoubasodais@hotmail.com\\nFax: (+221) 33 864 17 00\\n\\nVoir fiche | Visiter le site\\nNotez ce professionnel\\n1\\n2\\n3\\n4\\n5\\nTEL: 338203541\\n   Afficher le numéro\\nLogo\\n\\nFax: 338203889\\n\\nVoir fiche | Visiter le site\\nNotez ce professionnel\\n1\\n2\\n3\\n4\\n5\"]]"
      ]
     },
     "execution_count": 212,
     "metadata": {},
     "output_type": "execute_result"
    }
   ],
   "source": [
    "all_infos"
   ]
  },
  {
   "cell_type": "code",
   "execution_count": 278,
   "metadata": {},
   "outputs": [
    {
     "ename": "ImportError",
     "evalue": "No module named 'Quandl'",
     "output_type": "error",
     "traceback": [
      "\u001b[0;31m---------------------------------------------------------------------------\u001b[0m",
      "\u001b[0;31mImportError\u001b[0m                               Traceback (most recent call last)",
      "\u001b[0;32m<ipython-input-278-f73be308e486>\u001b[0m in \u001b[0;36m<module>\u001b[0;34m()\u001b[0m\n\u001b[0;32m----> 1\u001b[0;31m \u001b[0;32mimport\u001b[0m \u001b[0mQuandl\u001b[0m\u001b[0;34m\u001b[0m\u001b[0m\n\u001b[0m",
      "\u001b[0;31mImportError\u001b[0m: No module named 'Quandl'"
     ]
    }
   ],
   "source": [
    "import Quandl"
   ]
  },
  {
   "cell_type": "code",
   "execution_count": null,
   "metadata": {
    "collapsed": true
   },
   "outputs": [],
   "source": []
  }
 ],
 "metadata": {
  "kernelspec": {
   "display_name": "Python 3",
   "language": "python",
   "name": "python3"
  },
  "language_info": {
   "codemirror_mode": {
    "name": "ipython",
    "version": 3
   },
   "file_extension": ".py",
   "mimetype": "text/x-python",
   "name": "python",
   "nbconvert_exporter": "python",
   "pygments_lexer": "ipython3",
   "version": "3.5.2"
  }
 },
 "nbformat": 4,
 "nbformat_minor": 2
}
